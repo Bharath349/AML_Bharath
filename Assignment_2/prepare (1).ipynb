{
 "cells": [
  {
   "cell_type": "code",
   "execution_count": 20,
   "metadata": {},
   "outputs": [],
   "source": [
    "import pandas as pd\n",
    "import csv\n",
    "from textblob import TextBlob\n",
    "from sklearn.feature_extraction.text import CountVectorizer, TfidfTransformer\n",
    "import sklearn\n",
    "from sklearn.model_selection import train_test_split \n",
    "from scipy import sparse\n",
    "import nltk\n",
    "import random"
   ]
  },
  {
   "cell_type": "code",
   "execution_count": 2,
   "metadata": {},
   "outputs": [
    {
     "name": "stdout",
     "output_type": "stream",
     "text": [
      "Requirement already satisfied: nltk in c:\\users\\bhara\\appdata\\local\\programs\\python\\python310\\lib\\site-packages (3.7)\n",
      "Requirement already satisfied: regex>=2021.8.3 in c:\\users\\bhara\\appdata\\local\\programs\\python\\python310\\lib\\site-packages (from nltk) (2022.6.2)\n",
      "Requirement already satisfied: joblib in c:\\users\\bhara\\appdata\\local\\programs\\python\\python310\\lib\\site-packages (from nltk) (1.1.0)\n",
      "Requirement already satisfied: click in c:\\users\\bhara\\appdata\\local\\programs\\python\\python310\\lib\\site-packages (from nltk) (8.1.3)\n",
      "Requirement already satisfied: tqdm in c:\\users\\bhara\\appdata\\local\\programs\\python\\python310\\lib\\site-packages (from nltk) (4.64.0)\n",
      "Requirement already satisfied: colorama in c:\\users\\bhara\\appdata\\roaming\\python\\python310\\site-packages (from click->nltk) (0.4.5)\n",
      "\n",
      "[notice] A new release of pip available: 22.1.2 -> 23.0.1\n",
      "[notice] To update, run: python.exe -m pip install --upgrade pip\n"
     ]
    }
   ],
   "source": [
    "!pip install nltk"
   ]
  },
  {
   "attachments": {},
   "cell_type": "markdown",
   "metadata": {},
   "source": [
    "Loading the raw data"
   ]
  },
  {
   "cell_type": "code",
   "execution_count": 6,
   "metadata": {},
   "outputs": [],
   "source": [
    "messages = pd.read_csv('SMSSpamCollection', sep='\\t', quoting=csv.QUOTE_NONE,\n",
    "                           names=[\"label\", \"message\"])"
   ]
  },
  {
   "cell_type": "code",
   "execution_count": 6,
   "metadata": {},
   "outputs": [
    {
     "name": "stderr",
     "output_type": "stream",
     "text": [
      "[nltk_data] Error loading stopwords: <urlopen error [WinError 10054]\n",
      "[nltk_data]     An existing connection was forcibly closed by the\n",
      "[nltk_data]     remote host>\n"
     ]
    },
    {
     "data": {
      "text/plain": [
       "False"
      ]
     },
     "execution_count": 6,
     "metadata": {},
     "output_type": "execute_result"
    }
   ],
   "source": [
    "nltk.download('stopwords')"
   ]
  },
  {
   "cell_type": "code",
   "execution_count": 4,
   "metadata": {},
   "outputs": [],
   "source": [
    "def split_into_lemmas(message):\n",
    "    message = str.format(message,'utf-8').lower()\n",
    "    words = TextBlob(message).words \n",
    "    return [word.lemma for word in words]"
   ]
  },
  {
   "cell_type": "code",
   "execution_count": 12,
   "metadata": {},
   "outputs": [],
   "source": [
    "bow_transformer = CountVectorizer(analyzer=split_into_lemmas).fit(messages['message'])"
   ]
  },
  {
   "cell_type": "code",
   "execution_count": 13,
   "metadata": {},
   "outputs": [],
   "source": [
    "messages_bow = bow_transformer.transform(messages['message'])\n",
    "tfidf_transformer = TfidfTransformer().fit(messages_bow)\n",
    "messages_tfidf = tfidf_transformer.transform(messages_bow)"
   ]
  },
  {
   "cell_type": "code",
   "execution_count": 21,
   "metadata": {},
   "outputs": [],
   "source": [
    "random.seed(100)"
   ]
  },
  {
   "cell_type": "code",
   "execution_count": 22,
   "metadata": {},
   "outputs": [],
   "source": [
    "messages_train, messages_test, y_train, y_test = train_test_split(messages_tfidf, messages['label'], test_size= 0.2)"
   ]
  },
  {
   "cell_type": "code",
   "execution_count": 23,
   "metadata": {},
   "outputs": [],
   "source": [
    "message_train, messages_valid, classify_train, classify_valid = train_test_split(messages_train, y_train, test_size=0.2)"
   ]
  },
  {
   "cell_type": "code",
   "execution_count": 24,
   "metadata": {},
   "outputs": [],
   "source": [
    "train_dataset = pd.DataFrame(message_train.todense())\n",
    "classify_df = classify_train.to_frame()\n",
    "classify_df = classify_df.reset_index(drop=True)\n",
    "train_data = pd.concat([train_dataset,classify_df],axis = 1)"
   ]
  },
  {
   "cell_type": "code",
   "execution_count": 25,
   "metadata": {},
   "outputs": [],
   "source": [
    "test_dataset = pd.DataFrame(messages_test.todense())\n",
    "test_classify = y_test.to_frame()\n",
    "test_classify = test_classify.reset_index(drop=True)\n",
    "test_data = pd.concat([test_dataset,test_classify],axis = 1)"
   ]
  },
  {
   "cell_type": "code",
   "execution_count": 26,
   "metadata": {},
   "outputs": [],
   "source": [
    "valid_dataset = pd.DataFrame(messages_valid.todense())\n",
    "valid_classify = classify_valid.to_frame()\n",
    "valid_classify = valid_classify.reset_index(drop=True)\n",
    "valid_data = pd.concat([valid_dataset,valid_classify],axis = 1)"
   ]
  },
  {
   "cell_type": "code",
   "execution_count": 27,
   "metadata": {},
   "outputs": [],
   "source": [
    "train_data.to_csv('train.csv')\n",
    "test_data.to_csv('test.csv')\n",
    "valid_data.to_csv('validation.csv')"
   ]
  },
  {
   "attachments": {},
   "cell_type": "markdown",
   "metadata": {},
   "source": [
    "Initialising dvc"
   ]
  },
  {
   "cell_type": "code",
   "execution_count": null,
   "metadata": {},
   "outputs": [
    {
     "name": "stdout",
     "output_type": "stream",
     "text": [
      "Initialized DVC repository.\n",
      "\n",
      "You can now commit the changes to git.\n",
      "\n",
      "+---------------------------------------------------------------------+\n",
      "|                                                                     |\n",
      "|        DVC has enabled anonymous aggregate usage analytics.         |\n",
      "|     Read the analytics documentation (and how to opt-out) here:     |\n",
      "|             <https://dvc.org/doc/user-guide/analytics>              |\n",
      "|                                                                     |\n",
      "+---------------------------------------------------------------------+\n",
      "\n",
      "What's next?\n",
      "------------\n",
      "- Check out the documentation: <https://dvc.org/doc>\n",
      "- Get help and share ideas: <https://dvc.org/chat>\n",
      "- Star us on GitHub: <https://github.com/iterative/dvc>\n"
     ]
    }
   ],
   "source": [
    "!cd .. && dvc init"
   ]
  },
  {
   "attachments": {},
   "cell_type": "markdown",
   "metadata": {},
   "source": [
    "Adding all the 3 splitted csv files to dvc"
   ]
  },
  {
   "cell_type": "code",
   "execution_count": null,
   "metadata": {},
   "outputs": [
    {
     "name": "stdout",
     "output_type": "stream",
     "text": [
      "\n",
      "To track the changes with git, run:\n",
      "\n",
      "\tgit add 'data\\.gitignore' train.csv.dvc\n",
      "\n",
      "To enable auto staging, run:\n",
      "\n",
      "\tdvc config core.autostage true\n",
      "\n",
      "To track the changes with git, run:\n",
      "\n",
      "\tgit add 'data\\.gitignore' validation.csv.dvc\n",
      "\n",
      "To enable auto staging, run:\n",
      "\n",
      "\tdvc config core.autostage true\n",
      "\n",
      "To track the changes with git, run:\n",
      "\n",
      "\tgit add test.csv.dvc 'data\\.gitignore'\n",
      "\n",
      "To enable auto staging, run:\n",
      "\n",
      "\tdvc config core.autostage true\n"
     ]
    }
   ],
   "source": [
    "!dvc add ./data/train.csv\n",
    "!dvc add ./data/validation.csv\n",
    "!dvc add ./data/test.csv"
   ]
  },
  {
   "cell_type": "code",
   "execution_count": null,
   "metadata": {},
   "outputs": [],
   "source": [
    "!dvc config core.autostage true"
   ]
  },
  {
   "attachments": {},
   "cell_type": "markdown",
   "metadata": {},
   "source": [
    "Adding google drive folder as a remote data storage"
   ]
  },
  {
   "cell_type": "code",
   "execution_count": null,
   "metadata": {},
   "outputs": [
    {
     "name": "stdout",
     "output_type": "stream",
     "text": [
      "Setting 'myremote' as a default remote.\n"
     ]
    }
   ],
   "source": [
    "!cd .. && dvc remote add --default myremote gdrive://1WM_n-19W7nOe2Pyr-3yHzAUOFyvEgPOy"
   ]
  },
  {
   "cell_type": "code",
   "execution_count": null,
   "metadata": {},
   "outputs": [],
   "source": [
    "!dvc remote modify myremote gdrive_acknowledge_abuse true"
   ]
  },
  {
   "attachments": {},
   "cell_type": "markdown",
   "metadata": {},
   "source": [
    "Pushing dvc tracked files to remote storage"
   ]
  },
  {
   "cell_type": "code",
   "execution_count": null,
   "metadata": {},
   "outputs": [
    {
     "name": "stdout",
     "output_type": "stream",
     "text": [
      "3 files pushed\n"
     ]
    }
   ],
   "source": [
    "!dvc push"
   ]
  },
  {
   "cell_type": "code",
   "execution_count": null,
   "metadata": {},
   "outputs": [],
   "source": [
    "#2nd data split\n",
    "data_split(raw_data, 121)"
   ]
  },
  {
   "cell_type": "code",
   "execution_count": null,
   "metadata": {},
   "outputs": [
    {
     "name": "stdout",
     "output_type": "stream",
     "text": [
      "test.csv.dvc:\n",
      "\tchanged outs:\n",
      "\t\tmodified:           Assignment 2\\data\\test.csv\n",
      "train.csv.dvc:\n",
      "\tchanged outs:\n",
      "\t\tmodified:           Assignment 2\\data\\train.csv\n",
      "validation.csv.dvc:\n",
      "\tchanged outs:\n",
      "\t\tmodified:           Assignment 2\\data\\validation.csv\n"
     ]
    }
   ],
   "source": [
    "!dvc status"
   ]
  },
  {
   "cell_type": "code",
   "execution_count": null,
   "metadata": {},
   "outputs": [
    {
     "name": "stdout",
     "output_type": "stream",
     "text": [
      "3 files pushed\n"
     ]
    }
   ],
   "source": [
    "!dvc push"
   ]
  },
  {
   "attachments": {},
   "cell_type": "markdown",
   "metadata": {},
   "source": [
    "Checkout for the different versions of the data splitting"
   ]
  },
  {
   "cell_type": "code",
   "execution_count": null,
   "metadata": {},
   "outputs": [
    {
     "name": "stdout",
     "output_type": "stream",
     "text": [
      "commit b4e31b9f1fb6fd99a4f0f5eaee62322c65d0393f\n",
      "Author: Soham Biswas <biswassoham434@gmail.com>\n",
      "Date:   Tue Feb 28 00:16:57 2023 +0530\n",
      "\n",
      "    Second Split Random Seed 121\n",
      "\n",
      "commit 250db97be7ad21504f968454f6cf9cd55cad6bd1\n",
      "Author: Soham Biswas <biswassoham434@gmail.com>\n",
      "Date:   Tue Feb 28 00:07:45 2023 +0530\n",
      "\n",
      "    First Split Random Seed 42\n",
      "\n",
      "commit efe6d6c31d44abd0961ce32546915d7381ae2d97\n",
      "Author: Soham Biswas <biswassoham434@gmail.com>\n",
      "Date:   Tue Feb 28 00:07:15 2023 +0530\n",
      "\n",
      "    dvc remote added and pushed\n",
      "\n",
      "commit 2683509f5b8a4d5735d52e8e6ef0dba594985f9d\n",
      "Author: Soham Biswas <biswassoham434@gmail.com>\n",
      "Date:   Tue Feb 28 00:02:41 2023 +0530\n",
      "\n",
      "    dvc init\n",
      "\n",
      "commit 32d0797cf3e7baea5831db53520785188d28fe9a\n",
      "Author: Soham Biswas <biswassoham434@gmail.com>\n",
      "Date:   Tue Feb 28 00:01:44 2023 +0530\n",
      "\n",
      "    dvc deleted for fresh start\n",
      "\n",
      "commit a8cd5cea8129ba08b71b89fe78f42aa63563b417\n",
      "Author: Soham Biswas <biswassoham434@gmail.com>\n",
      "Date:   Mon Feb 27 23:59:51 2023 +0530\n",
      "\n",
      "    dvc deleted for fresh start\n",
      "\n",
      "commit fe80fa9a0d081b4e66077d57fa6f56041e7f2495\n",
      "Author: Soham Biswas <biswassoham434@gmail.com>\n",
      "Date:   Mon Feb 27 23:59:34 2023 +0530\n",
      "\n",
      "    dvc deleted for fresh start\n",
      "\n",
      "commit eb21fa349c494b1199a9431207c0ffc7242a10a7\n",
      "Author: Soham Biswas <biswassoham434@gmail.com>\n",
      "Date:   Mon Feb 27 22:33:21 2023 +0530\n",
      "\n",
      "    1st Split, Seed: 42\n",
      "\n",
      "commit 7e36fc00a177c12c7bcc4d1658353854f468cc19\n",
      "Author: Soham Biswas <biswassoham434@gmail.com>\n",
      "Date:   Mon Feb 27 22:32:51 2023 +0530\n",
      "\n",
      "    First Split not csv\n",
      "\n",
      "commit 2052aa111a482855597acce32630364e8386d41a\n",
      "Merge: e058d02 1793b56\n",
      "Author: Soham Biswas <biswassoham434@gmail.com>\n",
      "Date:   Mon Feb 27 21:46:45 2023 +0530\n",
      "\n",
      "    Moving files to subfolder\n",
      "\n",
      "commit e058d02378c703f9b2c244b11b022a6f55760816\n",
      "Author: Soham Biswas <biswassoham434@gmail.com>\n",
      "Date:   Mon Feb 27 21:45:13 2023 +0530\n",
      "\n",
      "    Moving files to subfolder\n",
      "\n",
      "commit 1793b56e78463d2c36d75f9c44ceda1c000b3113\n",
      "Author: Soham Biswas <biswassoham434@gmail.com>\n",
      "Date:   Mon Feb 27 21:43:48 2023 +0530\n",
      "\n",
      "    Delete data directory\n",
      "\n",
      "commit 98c78db52f7d7786d46bb1321b5a3c32bc059f17\n",
      "Author: Soham Biswas <biswassoham434@gmail.com>\n",
      "Date:   Mon Feb 27 21:43:02 2023 +0530\n",
      "\n",
      "    Moving files to subfolder\n",
      "\n",
      "commit 4edf56c2b0005cb04c944084a4f3909f24a71876\n",
      "Author: Soham Biswas <biswassoham434@gmail.com>\n",
      "Date:   Mon Feb 27 21:38:04 2023 +0530\n",
      "\n",
      "    Delete Assingment 1 directory\n",
      "\n",
      "commit c713be849d1edb0fd7208b21ee46b056539edda9\n",
      "Author: Soham Biswas <biswassoham434@gmail.com>\n",
      "Date:   Mon Feb 27 21:37:53 2023 +0530\n",
      "\n",
      "    Delete Assignment 1 directory\n",
      "\n",
      "commit 5b2ebaa8ab4ccd4f5ea1c5a1d647ed2a5cc28642\n",
      "Author: Soham Biswas <biswassoham434@gmail.com>\n",
      "Date:   Mon Feb 27 21:37:07 2023 +0530\n",
      "\n",
      "    Rename prepare.ipynb to Assignment 1/prepare.ipynb\n",
      "\n",
      "commit f8273b3140f443caa25a1c3c4a5c599b256615f5\n",
      "Author: Soham Biswas <biswassoham434@gmail.com>\n",
      "Date:   Mon Feb 27 21:33:26 2023 +0530\n",
      "\n",
      "    Create ReadMe.txt\n",
      "\n",
      "commit 44b1cd5733c28ee6b59a34b566ed17119eadf703\n",
      "Author: Soham Biswas <biswassoham434@gmail.com>\n",
      "Date:   Tue Jan 31 23:38:37 2023 +0530\n",
      "\n",
      "    initial_commit\n"
     ]
    }
   ],
   "source": [
    "!git log"
   ]
  },
  {
   "attachments": {},
   "cell_type": "markdown",
   "metadata": {},
   "source": [
    "Checkout for 1st version"
   ]
  },
  {
   "cell_type": "code",
   "execution_count": null,
   "metadata": {},
   "outputs": [
    {
     "name": "stderr",
     "output_type": "stream",
     "text": [
      "Note: switching to '250db97be7ad21504f968454f6cf9cd55cad6bd1'.\n",
      "\n",
      "You are in 'detached HEAD' state. You can look around, make experimental\n",
      "changes and commit them, and you can discard any commits you make in this\n",
      "state without impacting any branches by switching back to a branch.\n",
      "\n",
      "If you want to create a new branch to retain commits you create, you may\n",
      "do so (now or later) by using -c with the switch command. Example:\n",
      "\n",
      "  git switch -c <new-branch-name>\n",
      "\n",
      "Or undo this operation with:\n",
      "\n",
      "  git switch -\n",
      "\n",
      "Turn off this advice by setting config variable advice.detachedHead to false\n",
      "\n",
      "HEAD is now at 250db97 First Split Random Seed 42\n"
     ]
    }
   ],
   "source": [
    "!git checkout 250db97be7ad21504f968454f6cf9cd55cad6bd1"
   ]
  },
  {
   "cell_type": "code",
   "execution_count": null,
   "metadata": {},
   "outputs": [
    {
     "name": "stdout",
     "output_type": "stream",
     "text": [
      "M       Assignment 2\\data\\train.csv\n",
      "M       Assignment 2\\data\\test.csv\n",
      "M       Assignment 2\\data\\validation.csv\n"
     ]
    }
   ],
   "source": [
    "!dvc checkout"
   ]
  },
  {
   "attachments": {},
   "cell_type": "markdown",
   "metadata": {},
   "source": [
    "Function to get the distribution of sms labels in the splitted data"
   ]
  },
  {
   "cell_type": "code",
   "execution_count": null,
   "metadata": {},
   "outputs": [],
   "source": [
    "def label_dist(path):\n",
    "    data = pd.read_csv(path)\n",
    "\n",
    "    ham_count = list(data.iloc[:,1]).count(\"ham\")\n",
    "    spam_count = list(data.iloc[:,1]).count(\"spam\")\n",
    "\n",
    "    print(\"Ham: {}, Spam: {}\".format(ham_count, spam_count))"
   ]
  },
  {
   "attachments": {},
   "cell_type": "markdown",
   "metadata": {},
   "source": [
    "For 1st Split (Random Seed: 42)"
   ]
  },
  {
   "cell_type": "code",
   "execution_count": null,
   "metadata": {},
   "outputs": [
    {
     "name": "stdout",
     "output_type": "stream",
     "text": [
      "First Split (Random Seed: 42)\n",
      "\n",
      "Training dataset:\n",
      "Ham: 3909, Spam: 605\n",
      "\n",
      "Validation dataset:\n",
      "Ham: 440, Spam: 62\n",
      "\n",
      "Testing dataset:\n",
      "Ham: 478, Spam: 80\n"
     ]
    }
   ],
   "source": [
    "train_path = './data/train.csv'\n",
    "val_path = './data/validation.csv'\n",
    "test_path = './data/test.csv'\n",
    "\n",
    "print(\"First Split (Random Seed: 42)\")\n",
    "print(\"\\nTraining dataset:\")\n",
    "label_dist(train_path)\n",
    "print(\"\\nValidation dataset:\")\n",
    "label_dist(val_path)\n",
    "print(\"\\nTesting dataset:\")\n",
    "label_dist(test_path)"
   ]
  },
  {
   "attachments": {},
   "cell_type": "markdown",
   "metadata": {},
   "source": [
    "Checkout for 2nd Split"
   ]
  },
  {
   "cell_type": "code",
   "execution_count": null,
   "metadata": {},
   "outputs": [
    {
     "name": "stderr",
     "output_type": "stream",
     "text": [
      "Previous HEAD position was 250db97 First Split Random Seed 42\n",
      "HEAD is now at b4e31b9 Second Split Random Seed 121\n"
     ]
    }
   ],
   "source": [
    "!git checkout b4e31b9f1fb6fd99a4f0f5eaee62322c65d0393f"
   ]
  },
  {
   "cell_type": "code",
   "execution_count": null,
   "metadata": {},
   "outputs": [
    {
     "name": "stdout",
     "output_type": "stream",
     "text": [
      "M       Assignment 2\\data\\train.csv\n",
      "M       Assignment 2\\data\\validation.csv\n",
      "M       Assignment 2\\data\\test.csv\n"
     ]
    }
   ],
   "source": [
    "!dvc checkout"
   ]
  },
  {
   "attachments": {},
   "cell_type": "markdown",
   "metadata": {},
   "source": [
    "For 2nd Split (Random Seed: 121)"
   ]
  },
  {
   "cell_type": "code",
   "execution_count": null,
   "metadata": {},
   "outputs": [
    {
     "name": "stdout",
     "output_type": "stream",
     "text": [
      "2nd Split (Random Seed: 121)\n",
      "\n",
      "Training dataset:\n",
      "Ham: 3910, Spam: 604\n",
      "\n",
      "Validation dataset:\n",
      "Ham: 430, Spam: 72\n",
      "\n",
      "Testing dataset:\n",
      "Ham: 487, Spam: 71\n"
     ]
    }
   ],
   "source": [
    "print(\"2nd Split (Random Seed: 121)\")\n",
    "print(\"\\nTraining dataset:\")\n",
    "label_dist(train_path)\n",
    "print(\"\\nValidation dataset:\")\n",
    "label_dist(val_path)\n",
    "print(\"\\nTesting dataset:\")\n",
    "label_dist(test_path)"
   ]
  }
 ],
 "metadata": {
  "kernelspec": {
   "display_name": "env_py39",
   "language": "python",
   "name": "python3"
  },
  "language_info": {
   "codemirror_mode": {
    "name": "ipython",
    "version": 3
   },
   "file_extension": ".py",
   "mimetype": "text/x-python",
   "name": "python",
   "nbconvert_exporter": "python",
   "pygments_lexer": "ipython3",
   "version": "3.10.4"
  },
  "orig_nbformat": 4,
  "vscode": {
   "interpreter": {
    "hash": "9839ce3c6acaca560491e1b41f8b46d426659617553cc8a88a5826e3aaa30400"
   }
  }
 },
 "nbformat": 4,
 "nbformat_minor": 2
}
