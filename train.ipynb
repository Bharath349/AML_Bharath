{
  "nbformat": 4,
  "nbformat_minor": 0,
  "metadata": {
    "colab": {
      "provenance": []
    },
    "kernelspec": {
      "name": "python3",
      "display_name": "Python 3"
    },
    "language_info": {
      "name": "python"
    }
  },
  "cells": [
    {
      "cell_type": "code",
      "execution_count": 40,
      "metadata": {
        "id": "x3RutCuBUgTg"
      },
      "outputs": [],
      "source": [
        "import pandas\n",
        "import numpy\n",
        "from sklearn.naive_bayes import MultinomialNB\n",
        "from sklearn.svm import SVC\n",
        "from sklearn.metrics import classification_report, f1_score, accuracy_score\n",
        "from sklearn.linear_model import LogisticRegression"
      ]
    },
    {
      "cell_type": "code",
      "source": [
        "test_df = pandas.read_csv('test.csv')"
      ],
      "metadata": {
        "id": "mZ0uludVWrNk"
      },
      "execution_count": 9,
      "outputs": []
    },
    {
      "cell_type": "code",
      "source": [
        "test_df = test_df.drop(['Unnamed: 0'],axis = 1)"
      ],
      "metadata": {
        "id": "kB3gjhH3YMz6"
      },
      "execution_count": 12,
      "outputs": []
    },
    {
      "cell_type": "code",
      "source": [
        "test_array = test_df[test_df.columns[:8731]].to_numpy()"
      ],
      "metadata": {
        "id": "eBzxtCFEYjoM"
      },
      "execution_count": 15,
      "outputs": []
    },
    {
      "cell_type": "code",
      "source": [
        "y_test = test_df['label'].to_numpy()"
      ],
      "metadata": {
        "id": "-NghY8JcZogn"
      },
      "execution_count": 19,
      "outputs": []
    },
    {
      "cell_type": "code",
      "source": [
        "train_df = pandas.read_csv('train.csv')\n",
        "train_df = train_df.drop(['Unnamed: 0'],axis = 1)\n",
        "train_array = train_df[train_df.columns[:8731]].to_numpy()\n",
        "y_train = train_df['label'].to_numpy()"
      ],
      "metadata": {
        "id": "c8KuYdcKaMKT"
      },
      "execution_count": 21,
      "outputs": []
    },
    {
      "cell_type": "code",
      "source": [
        "val_df = pandas.read_csv('validation.csv')\n",
        "val_df = val_df.drop(['Unnamed: 0'],axis = 1)\n",
        "val_array = val_df[val_df.columns[:8731]].to_numpy()\n",
        "y_val = val_df['label'].to_numpy()"
      ],
      "metadata": {
        "id": "V_zuwWT4aeiS"
      },
      "execution_count": 22,
      "outputs": []
    },
    {
      "cell_type": "code",
      "source": [
        "def fit_model(model,train_x,train_y):\n",
        "  if model == 'MNB':\n",
        "    spam_detection_model = MultinomialNB().fit(train_x ,train_y)\n",
        "  if model == 'SVM':\n",
        "    spam_detection_model = SVC().fit(train_x, train_y)\n",
        "  if model == 'LogR':\n",
        "    spam_detection_model = LogisticRegression().fit(train_array, y_train)\n",
        "  return spam_detection_model"
      ],
      "metadata": {
        "id": "JJ-4qwHTjder"
      },
      "execution_count": 55,
      "outputs": []
    },
    {
      "cell_type": "code",
      "source": [
        "def model_evaluation(model,train_x,train_y):\n",
        "  pred_train = model.predict(train_x)\n",
        "  accuracy = accuracy_score(train_y,pred_train)\n",
        "  return accuracy"
      ],
      "metadata": {
        "id": "qvZU-GvslNH2"
      },
      "execution_count": 50,
      "outputs": []
    },
    {
      "cell_type": "code",
      "source": [
        "def model_validation(model,validation_x,validation_y):\n",
        "  pred_valid = model.predict(validation_x)\n",
        "  accuracy = accuracy_score(validation_y,pred_valid)\n",
        "  return accuracy"
      ],
      "metadata": {
        "id": "30BiOO3Pmdvd"
      },
      "execution_count": 51,
      "outputs": []
    },
    {
      "cell_type": "code",
      "source": [
        "def select_best_model(model1,model2,model3,test_x,test_y):\n",
        "  pred_model1 = model1.predict(test_x)\n",
        "  pred_model2 = model2.predict(test_x)\n",
        "  pred_model3 = model3.predict(test_x)\n",
        "  accuracy_model1 = accuracy_score(test_y,pred_model1)\n",
        "  accuracy_model2 = accuracy_score(test_y,pred_model2)\n",
        "  accuracy_model3 = accuracy_score(test_y,pred_model3)\n",
        "  if accuracy_model1 > accuracy_model2 and accuracy_model1 > accuracy_model3:\n",
        "    return model1\n",
        "  if accuracy_model2 > accuracy_model1 and accuracy_model2 > accuracy_model3:\n",
        "    return model2\n",
        "  if accuracy_model3 > accuracy_model1 and accuracy_model3 > accuracy_model2:\n",
        "    return model3"
      ],
      "metadata": {
        "id": "6C9pL-bXm5KQ"
      },
      "execution_count": 52,
      "outputs": []
    },
    {
      "cell_type": "code",
      "source": [
        "model_evaluation(fit_model('MNB',train_array,y_train),train_array,y_train) #Multinominal Naive Bayes"
      ],
      "metadata": {
        "colab": {
          "base_uri": "https://localhost:8080/"
        },
        "id": "7YfJMpyuovEM",
        "outputId": "3653f1b7-f31a-4145-a58b-45dc82b38903"
      },
      "execution_count": 56,
      "outputs": [
        {
          "output_type": "execute_result",
          "data": {
            "text/plain": [
              "0.9534622932436221"
            ]
          },
          "metadata": {},
          "execution_count": 56
        }
      ]
    },
    {
      "cell_type": "code",
      "source": [
        "model_evaluation(fit_model('SVM',train_array,y_train),train_array,y_train) # SVM"
      ],
      "metadata": {
        "colab": {
          "base_uri": "https://localhost:8080/"
        },
        "id": "aThbHlgapyKY",
        "outputId": "05896093-ffaa-40b0-f4e2-fadd371ca987"
      },
      "execution_count": 57,
      "outputs": [
        {
          "output_type": "execute_result",
          "data": {
            "text/plain": [
              "0.9980375665825624"
            ]
          },
          "metadata": {},
          "execution_count": 57
        }
      ]
    },
    {
      "cell_type": "code",
      "source": [
        "model_evaluation(fit_model('LogR',train_array,y_train),train_array,y_train) # Logistic Regression"
      ],
      "metadata": {
        "colab": {
          "base_uri": "https://localhost:8080/"
        },
        "id": "SRTrS6x5p6CW",
        "outputId": "4acb3837-f9aa-445b-ecf3-ada7e095c806"
      },
      "execution_count": 58,
      "outputs": [
        {
          "output_type": "execute_result",
          "data": {
            "text/plain": [
              "0.9714045416316233"
            ]
          },
          "metadata": {},
          "execution_count": 58
        }
      ]
    },
    {
      "cell_type": "code",
      "source": [
        "model_validation(fit_model('MNB',train_array,y_train),val_array,y_val)"
      ],
      "metadata": {
        "colab": {
          "base_uri": "https://localhost:8080/"
        },
        "id": "9HttZdpPqHIs",
        "outputId": "c0652888-cfb4-4c96-f93e-0426de9d2c50"
      },
      "execution_count": 59,
      "outputs": [
        {
          "output_type": "execute_result",
          "data": {
            "text/plain": [
              "0.9304932735426009"
            ]
          },
          "metadata": {},
          "execution_count": 59
        }
      ]
    },
    {
      "cell_type": "code",
      "source": [
        "model_validation(fit_model('SVM',train_array,y_train),val_array,y_val)"
      ],
      "metadata": {
        "colab": {
          "base_uri": "https://localhost:8080/"
        },
        "id": "8quN57oqqdAD",
        "outputId": "3723f3bd-080e-4a65-9bca-90e3310982db"
      },
      "execution_count": 60,
      "outputs": [
        {
          "output_type": "execute_result",
          "data": {
            "text/plain": [
              "0.9719730941704036"
            ]
          },
          "metadata": {},
          "execution_count": 60
        }
      ]
    },
    {
      "cell_type": "code",
      "source": [
        "model_validation(fit_model('LogR',train_array,y_train),val_array,y_val)"
      ],
      "metadata": {
        "colab": {
          "base_uri": "https://localhost:8080/"
        },
        "id": "BIWEljIyqg6I",
        "outputId": "fddc4462-466b-44d5-c126-0ef03046bed5"
      },
      "execution_count": 61,
      "outputs": [
        {
          "output_type": "execute_result",
          "data": {
            "text/plain": [
              "0.945067264573991"
            ]
          },
          "metadata": {},
          "execution_count": 61
        }
      ]
    },
    {
      "cell_type": "code",
      "source": [
        "select_best_model(fit_model('MNB',train_array,y_train),fit_model('SVM',train_array,y_train),fit_model('LogR',train_array,y_train),test_array,y_test)"
      ],
      "metadata": {
        "colab": {
          "base_uri": "https://localhost:8080/"
        },
        "id": "l530cpX6qn4H",
        "outputId": "2688a2b6-5484-4d83-f953-e36b0dbd6899"
      },
      "execution_count": 62,
      "outputs": [
        {
          "output_type": "execute_result",
          "data": {
            "text/plain": [
              "SVC()"
            ]
          },
          "metadata": {},
          "execution_count": 62
        }
      ]
    },
    {
      "cell_type": "markdown",
      "source": [
        "From the select_best_model fuction we got that SVM is the best model for the given data"
      ],
      "metadata": {
        "id": "1T2_9SpArPBp"
      }
    }
  ]
}