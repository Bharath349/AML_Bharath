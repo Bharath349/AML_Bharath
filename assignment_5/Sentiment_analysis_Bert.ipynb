{
  "cells": [
    {
      "cell_type": "markdown",
      "source": [
        "<center>AML Assignment 5<br>Sentiment Analysis</center>\n",
        "\n",
        "Ravilla Bharath Kumar\n",
        "\n",
        "MDS202133"
      ],
      "metadata": {
        "id": "Onj3yT2A23mM"
      },
      "id": "Onj3yT2A23mM"
    },
    {
      "cell_type": "markdown",
      "id": "27a5d0a6",
      "metadata": {
        "papermill": {
          "duration": 0.00584,
          "end_time": "2023-04-24T15:52:27.885307",
          "exception": false,
          "start_time": "2023-04-24T15:52:27.879467",
          "status": "completed"
        },
        "tags": [],
        "id": "27a5d0a6"
      },
      "source": [
        "#### Importing the required packages"
      ]
    },
    {
      "cell_type": "code",
      "source": [
        "!pip install transformers"
      ],
      "metadata": {
        "colab": {
          "base_uri": "https://localhost:8080/"
        },
        "id": "ol8vsUSys-t9",
        "outputId": "a61dca56-8bb7-4720-bf85-f38029eede5d"
      },
      "id": "ol8vsUSys-t9",
      "execution_count": 1,
      "outputs": [
        {
          "output_type": "stream",
          "name": "stdout",
          "text": [
            "Looking in indexes: https://pypi.org/simple, https://us-python.pkg.dev/colab-wheels/public/simple/\n",
            "Collecting transformers\n",
            "  Downloading transformers-4.28.1-py3-none-any.whl (7.0 MB)\n",
            "\u001b[2K     \u001b[90m━━━━━━━━━━━━━━━━━━━━━━━━━━━━━━━━━━━━━━━━\u001b[0m \u001b[32m7.0/7.0 MB\u001b[0m \u001b[31m42.7 MB/s\u001b[0m eta \u001b[36m0:00:00\u001b[0m\n",
            "\u001b[?25hRequirement already satisfied: numpy>=1.17 in /usr/local/lib/python3.10/dist-packages (from transformers) (1.22.4)\n",
            "Requirement already satisfied: regex!=2019.12.17 in /usr/local/lib/python3.10/dist-packages (from transformers) (2022.10.31)\n",
            "Requirement already satisfied: filelock in /usr/local/lib/python3.10/dist-packages (from transformers) (3.12.0)\n",
            "Requirement already satisfied: requests in /usr/local/lib/python3.10/dist-packages (from transformers) (2.27.1)\n",
            "Requirement already satisfied: packaging>=20.0 in /usr/local/lib/python3.10/dist-packages (from transformers) (23.1)\n",
            "Requirement already satisfied: pyyaml>=5.1 in /usr/local/lib/python3.10/dist-packages (from transformers) (6.0)\n",
            "Requirement already satisfied: tqdm>=4.27 in /usr/local/lib/python3.10/dist-packages (from transformers) (4.65.0)\n",
            "Collecting tokenizers!=0.11.3,<0.14,>=0.11.1\n",
            "  Downloading tokenizers-0.13.3-cp310-cp310-manylinux_2_17_x86_64.manylinux2014_x86_64.whl (7.8 MB)\n",
            "\u001b[2K     \u001b[90m━━━━━━━━━━━━━━━━━━━━━━━━━━━━━━━━━━━━━━━━\u001b[0m \u001b[32m7.8/7.8 MB\u001b[0m \u001b[31m81.5 MB/s\u001b[0m eta \u001b[36m0:00:00\u001b[0m\n",
            "\u001b[?25hCollecting huggingface-hub<1.0,>=0.11.0\n",
            "  Downloading huggingface_hub-0.14.1-py3-none-any.whl (224 kB)\n",
            "\u001b[2K     \u001b[90m━━━━━━━━━━━━━━━━━━━━━━━━━━━━━━━━━━━━━━\u001b[0m \u001b[32m224.5/224.5 kB\u001b[0m \u001b[31m24.7 MB/s\u001b[0m eta \u001b[36m0:00:00\u001b[0m\n",
            "\u001b[?25hRequirement already satisfied: fsspec in /usr/local/lib/python3.10/dist-packages (from huggingface-hub<1.0,>=0.11.0->transformers) (2023.4.0)\n",
            "Requirement already satisfied: typing-extensions>=3.7.4.3 in /usr/local/lib/python3.10/dist-packages (from huggingface-hub<1.0,>=0.11.0->transformers) (4.5.0)\n",
            "Requirement already satisfied: urllib3<1.27,>=1.21.1 in /usr/local/lib/python3.10/dist-packages (from requests->transformers) (1.26.15)\n",
            "Requirement already satisfied: certifi>=2017.4.17 in /usr/local/lib/python3.10/dist-packages (from requests->transformers) (2022.12.7)\n",
            "Requirement already satisfied: charset-normalizer~=2.0.0 in /usr/local/lib/python3.10/dist-packages (from requests->transformers) (2.0.12)\n",
            "Requirement already satisfied: idna<4,>=2.5 in /usr/local/lib/python3.10/dist-packages (from requests->transformers) (3.4)\n",
            "Installing collected packages: tokenizers, huggingface-hub, transformers\n",
            "Successfully installed huggingface-hub-0.14.1 tokenizers-0.13.3 transformers-4.28.1\n"
          ]
        }
      ]
    },
    {
      "cell_type": "code",
      "execution_count": 2,
      "id": "e2034d73",
      "metadata": {
        "execution": {
          "iopub.execute_input": "2023-04-24T15:52:27.899387Z",
          "iopub.status.busy": "2023-04-24T15:52:27.898684Z",
          "iopub.status.idle": "2023-04-24T15:52:39.176181Z",
          "shell.execute_reply": "2023-04-24T15:52:39.174932Z"
        },
        "papermill": {
          "duration": 11.287763,
          "end_time": "2023-04-24T15:52:39.179133",
          "exception": false,
          "start_time": "2023-04-24T15:52:27.891370",
          "status": "completed"
        },
        "tags": [],
        "id": "e2034d73"
      },
      "outputs": [],
      "source": [
        "import os, sys, random\n",
        "import datetime, time, copy\n",
        "import torch, warnings\n",
        "\n",
        "import numpy as np\n",
        "import matplotlib.pyplot as plt\n",
        "import torch.optim as optim\n",
        "import torch.nn as nn\n",
        "import transformers\n",
        "\n",
        "from torch.utils.data import DataLoader, Dataset\n",
        "from torch.utils.data import TensorDataset, RandomSampler, SequentialSampler\n",
        "from torch.optim import AdamW\n",
        "from sklearn.metrics import classification_report, accuracy_score\n",
        "from sklearn.metrics import roc_auc_score, f1_score\n",
        "from transformers import BertForSequenceClassification, BertTokenizerFast\n",
        "from transformers import get_linear_schedule_with_warmup\n",
        "from PIL import Image\n",
        "\n",
        "warnings.filterwarnings(\"ignore\")\n",
        "%matplotlib inline"
      ]
    },
    {
      "cell_type": "code",
      "source": [
        "from google.colab import drive\n",
        "drive.mount('/content/drive')"
      ],
      "metadata": {
        "colab": {
          "base_uri": "https://localhost:8080/"
        },
        "id": "U46C_2dPuN6Q",
        "outputId": "ab5902b8-3395-4d20-c209-b7e3f120c895"
      },
      "id": "U46C_2dPuN6Q",
      "execution_count": 3,
      "outputs": [
        {
          "output_type": "stream",
          "name": "stdout",
          "text": [
            "Mounted at /content/drive\n"
          ]
        }
      ]
    },
    {
      "cell_type": "markdown",
      "id": "695f1f5d",
      "metadata": {
        "papermill": {
          "duration": 0.006016,
          "end_time": "2023-04-24T15:52:39.191581",
          "exception": false,
          "start_time": "2023-04-24T15:52:39.185565",
          "status": "completed"
        },
        "tags": [],
        "id": "695f1f5d"
      },
      "source": [
        "#### Setting the directory of the data"
      ]
    },
    {
      "cell_type": "code",
      "execution_count": 4,
      "id": "14e91bc2",
      "metadata": {
        "execution": {
          "iopub.execute_input": "2023-04-24T15:52:39.206226Z",
          "iopub.status.busy": "2023-04-24T15:52:39.205443Z",
          "iopub.status.idle": "2023-04-24T15:52:39.210003Z",
          "shell.execute_reply": "2023-04-24T15:52:39.209031Z"
        },
        "papermill": {
          "duration": 0.0141,
          "end_time": "2023-04-24T15:52:39.212043",
          "exception": false,
          "start_time": "2023-04-24T15:52:39.197943",
          "status": "completed"
        },
        "tags": [],
        "id": "14e91bc2"
      },
      "outputs": [],
      "source": [
        "data_path = \"/content/drive/MyDrive/AML_assignment/data/data_2/train_data.csv\""
      ]
    },
    {
      "cell_type": "markdown",
      "id": "becafb83",
      "metadata": {
        "papermill": {
          "duration": 0.00603,
          "end_time": "2023-04-24T15:52:39.224327",
          "exception": false,
          "start_time": "2023-04-24T15:52:39.218297",
          "status": "completed"
        },
        "tags": [],
        "id": "becafb83"
      },
      "source": [
        "##### Checking if Cuda is available"
      ]
    },
    {
      "cell_type": "code",
      "execution_count": 5,
      "id": "9e709b2d",
      "metadata": {
        "execution": {
          "iopub.execute_input": "2023-04-24T15:52:39.239157Z",
          "iopub.status.busy": "2023-04-24T15:52:39.238364Z",
          "iopub.status.idle": "2023-04-24T15:52:39.304509Z",
          "shell.execute_reply": "2023-04-24T15:52:39.303800Z"
        },
        "papermill": {
          "duration": 0.075009,
          "end_time": "2023-04-24T15:52:39.306386",
          "exception": false,
          "start_time": "2023-04-24T15:52:39.231377",
          "status": "completed"
        },
        "tags": [],
        "colab": {
          "base_uri": "https://localhost:8080/"
        },
        "id": "9e709b2d",
        "outputId": "529876c9-0e98-4041-f79a-38e41b7d3cc1"
      },
      "outputs": [
        {
          "output_type": "stream",
          "name": "stdout",
          "text": [
            "Using GPU:  True\n"
          ]
        }
      ],
      "source": [
        "use_gpu = torch.cuda.is_available()\n",
        "print('Using GPU: ', use_gpu)\n",
        "\n",
        "if use_gpu == True:\n",
        "\tdevice = torch.device(\"cuda\")\n",
        "else:\n",
        "\tdevice = torch.device(\"cpu\")"
      ]
    },
    {
      "cell_type": "markdown",
      "id": "1aaaec3e",
      "metadata": {
        "papermill": {
          "duration": 0.005955,
          "end_time": "2023-04-24T15:52:39.318557",
          "exception": false,
          "start_time": "2023-04-24T15:52:39.312602",
          "status": "completed"
        },
        "tags": [],
        "id": "1aaaec3e"
      },
      "source": [
        "##### Setting Random Seed"
      ]
    },
    {
      "cell_type": "code",
      "execution_count": 8,
      "id": "1cd5b063",
      "metadata": {
        "execution": {
          "iopub.execute_input": "2023-04-24T15:52:39.333756Z",
          "iopub.status.busy": "2023-04-24T15:52:39.332165Z",
          "iopub.status.idle": "2023-04-24T15:52:39.340218Z",
          "shell.execute_reply": "2023-04-24T15:52:39.339309Z"
        },
        "papermill": {
          "duration": 0.017713,
          "end_time": "2023-04-24T15:52:39.342398",
          "exception": false,
          "start_time": "2023-04-24T15:52:39.324685",
          "status": "completed"
        },
        "tags": [],
        "id": "1cd5b063"
      },
      "outputs": [],
      "source": [
        "seed_val = 100\n",
        "\n",
        "random.seed(seed_val)\n",
        "np.random.seed(seed_val)\n",
        "torch.manual_seed(seed_val)\n",
        "torch.cuda.manual_seed_all(seed_val)"
      ]
    },
    {
      "cell_type": "markdown",
      "id": "f31bd5f5",
      "metadata": {
        "papermill": {
          "duration": 0.005933,
          "end_time": "2023-04-24T15:52:39.354407",
          "exception": false,
          "start_time": "2023-04-24T15:52:39.348474",
          "status": "completed"
        },
        "tags": [],
        "id": "f31bd5f5"
      },
      "source": [
        "##### Loading the training data"
      ]
    },
    {
      "cell_type": "code",
      "execution_count": 9,
      "id": "f470fa0c",
      "metadata": {
        "execution": {
          "iopub.execute_input": "2023-04-24T15:52:39.367943Z",
          "iopub.status.busy": "2023-04-24T15:52:39.367684Z",
          "iopub.status.idle": "2023-04-24T15:52:43.920866Z",
          "shell.execute_reply": "2023-04-24T15:52:43.919896Z"
        },
        "papermill": {
          "duration": 4.562518,
          "end_time": "2023-04-24T15:52:43.923137",
          "exception": false,
          "start_time": "2023-04-24T15:52:39.360619",
          "status": "completed"
        },
        "tags": [],
        "colab": {
          "base_uri": "https://localhost:8080/"
        },
        "id": "f470fa0c",
        "outputId": "2515c9b9-9eb8-4173-f663-e45e54caefaa"
      },
      "outputs": [
        {
          "output_type": "execute_result",
          "data": {
            "text/plain": [
              "(629143, 262143, 157286)"
            ]
          },
          "metadata": {},
          "execution_count": 9
        }
      ],
      "source": [
        "full_train_list = [(i.split(',')[-1], int(i.split(',')[0])//2) \n",
        "              for i in open(data_path, errors='replace').readlines() \n",
        "              if len(i.split(',')[0]) == 1]\n",
        "\n",
        "random.shuffle(full_train_list)\n",
        "\n",
        "train_per = 0.6\n",
        "val_per = 0.25\n",
        "train_num = int(train_per*len(full_train_list))\n",
        "val_num = int(val_per*len(full_train_list))\n",
        "\n",
        "train_list, val_list, test_list = full_train_list[:train_num], full_train_list[train_num:train_num+val_num], full_train_list[train_num+val_num:]\n",
        "\n",
        "len(train_list), len(val_list), len(test_list)"
      ]
    },
    {
      "cell_type": "code",
      "source": [
        "red = 0.1\n",
        "\n",
        "random.shuffle(train_list)\n",
        "train_list = train_list[:int(len(train_list)*red)]\n",
        "\n",
        "random.shuffle(val_list)\n",
        "val_list = val_list[:int(len(val_list)*red)]\n",
        "\n",
        "random.shuffle(test_list)\n",
        "test_list = test_list[:int(len(test_list)*red)]\n",
        "\n",
        "len(train_list), len(val_list), len(test_list)"
      ],
      "metadata": {
        "colab": {
          "base_uri": "https://localhost:8080/"
        },
        "id": "XFbkckKZtXsW",
        "outputId": "e9ba5db7-68d9-4b84-cd46-0a9e2cc21793"
      },
      "id": "XFbkckKZtXsW",
      "execution_count": 10,
      "outputs": [
        {
          "output_type": "execute_result",
          "data": {
            "text/plain": [
              "(62914, 26214, 15728)"
            ]
          },
          "metadata": {},
          "execution_count": 10
        }
      ]
    },
    {
      "cell_type": "markdown",
      "id": "6ca32d37",
      "metadata": {
        "papermill": {
          "duration": 0.006303,
          "end_time": "2023-04-24T15:52:43.935951",
          "exception": false,
          "start_time": "2023-04-24T15:52:43.929648",
          "status": "completed"
        },
        "tags": [],
        "id": "6ca32d37"
      },
      "source": [
        "##### Seperating Text and Labels"
      ]
    },
    {
      "cell_type": "code",
      "execution_count": 11,
      "id": "52625735",
      "metadata": {
        "execution": {
          "iopub.execute_input": "2023-04-24T15:52:43.949666Z",
          "iopub.status.busy": "2023-04-24T15:52:43.949361Z",
          "iopub.status.idle": "2023-04-24T15:52:44.323861Z",
          "shell.execute_reply": "2023-04-24T15:52:44.322783Z"
        },
        "papermill": {
          "duration": 0.384383,
          "end_time": "2023-04-24T15:52:44.326548",
          "exception": false,
          "start_time": "2023-04-24T15:52:43.942165",
          "status": "completed"
        },
        "tags": [],
        "id": "52625735"
      },
      "outputs": [],
      "source": [
        "train_x, train_y = [i[0] for i in train_list], [i[1] for i in train_list]\n",
        "val_x, val_y = [i[0] for i in val_list], [i[1] for i in val_list]\n",
        "test_x, test_y = [i[0] for i in test_list], [i[1] for i in test_list]"
      ]
    },
    {
      "cell_type": "markdown",
      "id": "dd798002",
      "metadata": {
        "papermill": {
          "duration": 0.006873,
          "end_time": "2023-04-24T15:52:44.341029",
          "exception": false,
          "start_time": "2023-04-24T15:52:44.334156",
          "status": "completed"
        },
        "tags": [],
        "id": "dd798002"
      },
      "source": [
        "##### Loading Bert Model and Tokenizer"
      ]
    },
    {
      "cell_type": "code",
      "execution_count": 12,
      "id": "6bd306b0",
      "metadata": {
        "execution": {
          "iopub.execute_input": "2023-04-24T15:52:44.356562Z",
          "iopub.status.busy": "2023-04-24T15:52:44.354773Z",
          "iopub.status.idle": "2023-04-24T15:52:49.836748Z",
          "shell.execute_reply": "2023-04-24T15:52:49.835759Z"
        },
        "papermill": {
          "duration": 5.491729,
          "end_time": "2023-04-24T15:52:49.839054",
          "exception": false,
          "start_time": "2023-04-24T15:52:44.347325",
          "status": "completed"
        },
        "tags": [],
        "colab": {
          "base_uri": "https://localhost:8080/",
          "height": 284,
          "referenced_widgets": [
            "8200d9715e6941cfbd6b33873b954dbf",
            "a7c1c345adbd477d8d25a453301122fc",
            "691fccc6537548afa7f0f7841cd1a7e6",
            "70cf26ff99fb47b4ad512054415b7d89",
            "6fd670e5fec54821ab59624d17705706",
            "2212e83b59814522bbcb154633a69b05",
            "8aeba78d4cfe41e2bc3cd396ce5dc5c5",
            "4366b73c410f422599fb4497c13fc8c4",
            "4f2a6d2a4200448885a42bb68159b26e",
            "8a749344817741689632440a73622877",
            "cbe4418bb783405187e13c6fbb226a08",
            "730e909ffc5142e9a0d5eb4320316c74",
            "86fe8e5f095040e98e41aa4334febc04",
            "0759f2e0b1014f4faf1e49a1187d92fc",
            "0a512eebdfea43348a59cd46bc35963c",
            "3c8bc4563aef48b69fd1e9a6e31ecb2b",
            "1f68747d01b64226a450bd44ebab5eb9",
            "b43405a5f24042159a8a15cfbba6ce1d",
            "cce1f69cc704496c925082fe8ebf8b93",
            "f0a334dc9a2b4464bbdfa03d9ea50f3f",
            "6e1a5a8030694ab4b79f5fea4f6db34d",
            "27c92383b5504d64a9e19ad686b8d845",
            "02b2c07d66924165af6d382ed9776eb8",
            "712004e2b0204d2090a3da9da760765f",
            "2cb7bb12c1504204811d7dab7ae64acc",
            "537e9fd0fdbf4254a5d5ff3084507290",
            "eff6d4b5e478492c96d77ac9de1187c1",
            "5f884a4aff5e49dab34f04679b726117",
            "458f23c8b8dc4908b13d057e869c447e",
            "32a235dd7403405991afcd8d7289ba73",
            "0643b88b3664441a97feb8257bb7b114",
            "60b7be6e8bb34dc6b4ba1265f24ee9c1",
            "ee9ca110b62a46fbb2d889651cc1b705",
            "d598269e88504dc39f58dd5dc5ed96e3",
            "d246c5d50c8a46c99cb63c9ef7959937",
            "9ff7ce9d4b824e049e74bc62a5ec9ce2",
            "407aac0cf3a34b37b0157ab8a81c64a3",
            "2daef215001843e7896d8a950699cce4",
            "bad151a189b24a8893b952d63f8a97af",
            "13f2c061c5af4d65b4b588dee5a3b4dd",
            "20546ac470ed45f99f212e545762bdb2",
            "4fabe02a6ea4455db0eba13e38614737",
            "776edc8447664a8a997425381706e3f8",
            "70eece4943624895aec0fbbbf52953ee",
            "23329d8cef9a40ecbd53e1ebe0db53ca",
            "5f8429ff7269431b849d51877594a9d8",
            "3409c928cee0427da4d23d04f25501a7",
            "f2819c88992b4abaa830a120ac31527d",
            "9708f4efb498476480fbe285f96ac998",
            "c640b0fe19044adaa641b03f94145913",
            "f47d3cb064a349918d31924ad75dcfbd",
            "79ab0ae562c04773b37e0e2d264115d6",
            "280db437f19f46caa831147f8236d0bc",
            "18a4305c09664a6c8cf1844aabf4c7b8",
            "22dd1fff5bf4424dab6f334b58b4648e"
          ]
        },
        "id": "6bd306b0",
        "outputId": "5b01c747-be8e-42b0-b32e-849a9e93f920"
      },
      "outputs": [
        {
          "output_type": "display_data",
          "data": {
            "text/plain": [
              "Downloading (…)lve/main/config.json:   0%|          | 0.00/570 [00:00<?, ?B/s]"
            ],
            "application/vnd.jupyter.widget-view+json": {
              "version_major": 2,
              "version_minor": 0,
              "model_id": "8200d9715e6941cfbd6b33873b954dbf"
            }
          },
          "metadata": {}
        },
        {
          "output_type": "display_data",
          "data": {
            "text/plain": [
              "Downloading pytorch_model.bin:   0%|          | 0.00/440M [00:00<?, ?B/s]"
            ],
            "application/vnd.jupyter.widget-view+json": {
              "version_major": 2,
              "version_minor": 0,
              "model_id": "730e909ffc5142e9a0d5eb4320316c74"
            }
          },
          "metadata": {}
        },
        {
          "output_type": "stream",
          "name": "stderr",
          "text": [
            "Some weights of the model checkpoint at bert-base-uncased were not used when initializing BertForSequenceClassification: ['cls.seq_relationship.bias', 'cls.seq_relationship.weight', 'cls.predictions.transform.LayerNorm.weight', 'cls.predictions.transform.LayerNorm.bias', 'cls.predictions.decoder.weight', 'cls.predictions.bias', 'cls.predictions.transform.dense.weight', 'cls.predictions.transform.dense.bias']\n",
            "- This IS expected if you are initializing BertForSequenceClassification from the checkpoint of a model trained on another task or with another architecture (e.g. initializing a BertForSequenceClassification model from a BertForPreTraining model).\n",
            "- This IS NOT expected if you are initializing BertForSequenceClassification from the checkpoint of a model that you expect to be exactly identical (initializing a BertForSequenceClassification model from a BertForSequenceClassification model).\n",
            "Some weights of BertForSequenceClassification were not initialized from the model checkpoint at bert-base-uncased and are newly initialized: ['classifier.weight', 'classifier.bias']\n",
            "You should probably TRAIN this model on a down-stream task to be able to use it for predictions and inference.\n"
          ]
        },
        {
          "output_type": "display_data",
          "data": {
            "text/plain": [
              "Downloading (…)okenizer_config.json:   0%|          | 0.00/28.0 [00:00<?, ?B/s]"
            ],
            "application/vnd.jupyter.widget-view+json": {
              "version_major": 2,
              "version_minor": 0,
              "model_id": "02b2c07d66924165af6d382ed9776eb8"
            }
          },
          "metadata": {}
        },
        {
          "output_type": "display_data",
          "data": {
            "text/plain": [
              "Downloading (…)solve/main/vocab.txt:   0%|          | 0.00/232k [00:00<?, ?B/s]"
            ],
            "application/vnd.jupyter.widget-view+json": {
              "version_major": 2,
              "version_minor": 0,
              "model_id": "d598269e88504dc39f58dd5dc5ed96e3"
            }
          },
          "metadata": {}
        },
        {
          "output_type": "display_data",
          "data": {
            "text/plain": [
              "Downloading (…)/main/tokenizer.json:   0%|          | 0.00/466k [00:00<?, ?B/s]"
            ],
            "application/vnd.jupyter.widget-view+json": {
              "version_major": 2,
              "version_minor": 0,
              "model_id": "23329d8cef9a40ecbd53e1ebe0db53ca"
            }
          },
          "metadata": {}
        }
      ],
      "source": [
        "# Load BertForSequenceClassification, the pretrained BERT model with a single \n",
        "# linear classification layer on top. \n",
        "model = BertForSequenceClassification.from_pretrained(\n",
        "    \"bert-base-uncased\", # Use the 12-layer BERT model, with an uncased vocab.\n",
        "    num_labels = 3, # The number of output labels--3 for pos/neu/neg classification.\n",
        "    output_attentions = False, # Whether the model returns attentions weights.\n",
        "    output_hidden_states = False, # Whether the model returns all hidden-states.\n",
        ")\n",
        "\n",
        "# BERT Uncased Tokenizer\n",
        "tokenizer = BertTokenizerFast.from_pretrained('bert-base-uncased', do_lower_case=True)"
      ]
    },
    {
      "cell_type": "markdown",
      "id": "ad90dcc9",
      "metadata": {
        "papermill": {
          "duration": 0.007505,
          "end_time": "2023-04-24T15:52:49.854574",
          "exception": false,
          "start_time": "2023-04-24T15:52:49.847069",
          "status": "completed"
        },
        "tags": [],
        "id": "ad90dcc9"
      },
      "source": [
        "##### Visualizing the lengths of sentences"
      ]
    },
    {
      "cell_type": "code",
      "execution_count": 13,
      "id": "defc2059",
      "metadata": {
        "execution": {
          "iopub.execute_input": "2023-04-24T15:52:49.870434Z",
          "iopub.status.busy": "2023-04-24T15:52:49.870122Z",
          "iopub.status.idle": "2023-04-24T15:52:52.890278Z",
          "shell.execute_reply": "2023-04-24T15:52:52.889272Z"
        },
        "papermill": {
          "duration": 3.03049,
          "end_time": "2023-04-24T15:52:52.892463",
          "exception": false,
          "start_time": "2023-04-24T15:52:49.861973",
          "status": "completed"
        },
        "tags": [],
        "colab": {
          "base_uri": "https://localhost:8080/",
          "height": 430
        },
        "id": "defc2059",
        "outputId": "bf7574e0-82fa-4fae-e862-0e4709713d3a"
      },
      "outputs": [
        {
          "output_type": "display_data",
          "data": {
            "text/plain": [
              "<Figure size 640x480 with 1 Axes>"
            ],
            "image/png": "[encoded data removed]"
          },
          "metadata": {}
        }
      ],
      "source": [
        "seq_len = [len(i.split()) for i in train_x]\n",
        "\n",
        "plt.hist(seq_len)\n",
        "plt.show()"
      ]
    },
    {
      "cell_type": "markdown",
      "id": "4c8e00ea",
      "metadata": {
        "papermill": {
          "duration": 0.007305,
          "end_time": "2023-04-24T15:52:52.907408",
          "exception": false,
          "start_time": "2023-04-24T15:52:52.900103",
          "status": "completed"
        },
        "tags": [],
        "id": "4c8e00ea"
      },
      "source": [
        "##### Padding with length 30 and tokenizing all texts"
      ]
    },
    {
      "cell_type": "code",
      "execution_count": 14,
      "id": "6afb7b2a",
      "metadata": {
        "execution": {
          "iopub.execute_input": "2023-04-24T15:52:52.924016Z",
          "iopub.status.busy": "2023-04-24T15:52:52.923441Z",
          "iopub.status.idle": "2023-04-24T15:54:09.888061Z",
          "shell.execute_reply": "2023-04-24T15:54:09.886957Z"
        },
        "papermill": {
          "duration": 76.97629,
          "end_time": "2023-04-24T15:54:09.890977",
          "exception": false,
          "start_time": "2023-04-24T15:52:52.914687",
          "status": "completed"
        },
        "tags": [],
        "id": "6afb7b2a"
      },
      "outputs": [],
      "source": [
        "# tokenize and encode sequences in the training set\n",
        "tokens_train = tokenizer.batch_encode_plus(\n",
        "    train_x,\n",
        "    max_length = 30,\n",
        "    padding='max_length',\n",
        "    truncation=True\n",
        ")\n",
        "\n",
        "# tokenize and encode sequences in the validation set\n",
        "tokens_val = tokenizer.batch_encode_plus(\n",
        "    val_x,\n",
        "    max_length = 30,\n",
        "    padding='max_length',\n",
        "    truncation=True\n",
        ")\n",
        "\n",
        "# tokenize and encode sequences in the test set\n",
        "tokens_test = tokenizer.batch_encode_plus(\n",
        "    test_x,\n",
        "    max_length = 30,\n",
        "    padding='max_length',\n",
        "    truncation=True\n",
        ")"
      ]
    },
    {
      "cell_type": "markdown",
      "id": "015e7d6b",
      "metadata": {
        "papermill": {
          "duration": 0.007284,
          "end_time": "2023-04-24T15:54:09.906231",
          "exception": false,
          "start_time": "2023-04-24T15:54:09.898947",
          "status": "completed"
        },
        "tags": [],
        "id": "015e7d6b"
      },
      "source": [
        "##### Converting Sequences, Attention Masks to Tensors"
      ]
    },
    {
      "cell_type": "code",
      "execution_count": 15,
      "id": "a997b953",
      "metadata": {
        "execution": {
          "iopub.execute_input": "2023-04-24T15:54:09.922446Z",
          "iopub.status.busy": "2023-04-24T15:54:09.922118Z",
          "iopub.status.idle": "2023-04-24T15:54:14.087824Z",
          "shell.execute_reply": "2023-04-24T15:54:14.086758Z"
        },
        "papermill": {
          "duration": 4.177062,
          "end_time": "2023-04-24T15:54:14.090732",
          "exception": false,
          "start_time": "2023-04-24T15:54:09.913670",
          "status": "completed"
        },
        "tags": [],
        "id": "a997b953"
      },
      "outputs": [],
      "source": [
        "train_seq = torch.tensor(tokens_train['input_ids'])\n",
        "train_mask = torch.tensor(tokens_train['attention_mask'])\n",
        "train_y = torch.tensor(train_y)\n",
        "\n",
        "val_seq = torch.tensor(tokens_val['input_ids'])\n",
        "val_mask = torch.tensor(tokens_val['attention_mask'])\n",
        "val_y = torch.tensor(val_y)\n",
        "\n",
        "test_seq = torch.tensor(tokens_test['input_ids'])\n",
        "test_mask = torch.tensor(tokens_test['attention_mask'])\n",
        "test_y = torch.tensor(test_y)"
      ]
    },
    {
      "cell_type": "markdown",
      "id": "3642d9e9",
      "metadata": {
        "papermill": {
          "duration": 0.007264,
          "end_time": "2023-04-24T15:54:14.105836",
          "exception": false,
          "start_time": "2023-04-24T15:54:14.098572",
          "status": "completed"
        },
        "tags": [],
        "id": "3642d9e9"
      },
      "source": [
        "##### Creating DataLoader objects"
      ]
    },
    {
      "cell_type": "code",
      "execution_count": 16,
      "id": "c0b3a1e3",
      "metadata": {
        "execution": {
          "iopub.execute_input": "2023-04-24T15:54:14.121992Z",
          "iopub.status.busy": "2023-04-24T15:54:14.121693Z",
          "iopub.status.idle": "2023-04-24T15:54:14.128203Z",
          "shell.execute_reply": "2023-04-24T15:54:14.127303Z"
        },
        "papermill": {
          "duration": 0.017166,
          "end_time": "2023-04-24T15:54:14.130359",
          "exception": false,
          "start_time": "2023-04-24T15:54:14.113193",
          "status": "completed"
        },
        "tags": [],
        "id": "c0b3a1e3"
      },
      "outputs": [],
      "source": [
        "batch_size = 32\n",
        "\n",
        "# Warping, sampling the training data and creating dataLoader object\n",
        "train_data = TensorDataset(train_seq, train_mask, train_y)\n",
        "train_sampler = RandomSampler(train_data)\n",
        "train_dataloader = DataLoader(train_data, sampler=train_sampler, batch_size=batch_size)\n",
        "\n",
        "# Warping, sampling the validation data and creating dataLoader object\n",
        "val_data = TensorDataset(val_seq, val_mask, val_y)\n",
        "val_sampler = SequentialSampler(val_data)\n",
        "val_dataloader = DataLoader(val_data, sampler = val_sampler, batch_size=batch_size)"
      ]
    },
    {
      "cell_type": "markdown",
      "id": "632c35be",
      "metadata": {
        "papermill": {
          "duration": 0.007351,
          "end_time": "2023-04-24T15:54:14.145012",
          "exception": false,
          "start_time": "2023-04-24T15:54:14.137661",
          "status": "completed"
        },
        "tags": [],
        "id": "632c35be"
      },
      "source": [
        "##### Printing the Model to look under the hood"
      ]
    },
    {
      "cell_type": "code",
      "execution_count": 17,
      "id": "1cbd78f8",
      "metadata": {
        "execution": {
          "iopub.execute_input": "2023-04-24T15:54:14.160974Z",
          "iopub.status.busy": "2023-04-24T15:54:14.160706Z",
          "iopub.status.idle": "2023-04-24T15:54:18.884616Z",
          "shell.execute_reply": "2023-04-24T15:54:18.883420Z"
        },
        "papermill": {
          "duration": 4.734251,
          "end_time": "2023-04-24T15:54:18.886713",
          "exception": false,
          "start_time": "2023-04-24T15:54:14.152462",
          "status": "completed"
        },
        "tags": [],
        "colab": {
          "base_uri": "https://localhost:8080/"
        },
        "id": "1cbd78f8",
        "outputId": "f82592e0-4c2c-44ce-ec62-d67a8eacb01a"
      },
      "outputs": [
        {
          "output_type": "stream",
          "name": "stdout",
          "text": [
            "BertForSequenceClassification(\n",
            "  (bert): BertModel(\n",
            "    (embeddings): BertEmbeddings(\n",
            "      (word_embeddings): Embedding(30522, 768, padding_idx=0)\n",
            "      (position_embeddings): Embedding(512, 768)\n",
            "      (token_type_embeddings): Embedding(2, 768)\n",
            "      (LayerNorm): LayerNorm((768,), eps=1e-12, elementwise_affine=True)\n",
            "      (dropout): Dropout(p=0.1, inplace=False)\n",
            "    )\n",
            "    (encoder): BertEncoder(\n",
            "      (layer): ModuleList(\n",
            "        (0-11): 12 x BertLayer(\n",
            "          (attention): BertAttention(\n",
            "            (self): BertSelfAttention(\n",
            "              (query): Linear(in_features=768, out_features=768, bias=True)\n",
            "              (key): Linear(in_features=768, out_features=768, bias=True)\n",
            "              (value): Linear(in_features=768, out_features=768, bias=True)\n",
            "              (dropout): Dropout(p=0.1, inplace=False)\n",
            "            )\n",
            "            (output): BertSelfOutput(\n",
            "              (dense): Linear(in_features=768, out_features=768, bias=True)\n",
            "              (LayerNorm): LayerNorm((768,), eps=1e-12, elementwise_affine=True)\n",
            "              (dropout): Dropout(p=0.1, inplace=False)\n",
            "            )\n",
            "          )\n",
            "          (intermediate): BertIntermediate(\n",
            "            (dense): Linear(in_features=768, out_features=3072, bias=True)\n",
            "            (intermediate_act_fn): GELUActivation()\n",
            "          )\n",
            "          (output): BertOutput(\n",
            "            (dense): Linear(in_features=3072, out_features=768, bias=True)\n",
            "            (LayerNorm): LayerNorm((768,), eps=1e-12, elementwise_affine=True)\n",
            "            (dropout): Dropout(p=0.1, inplace=False)\n",
            "          )\n",
            "        )\n",
            "      )\n",
            "    )\n",
            "    (pooler): BertPooler(\n",
            "      (dense): Linear(in_features=768, out_features=768, bias=True)\n",
            "      (activation): Tanh()\n",
            "    )\n",
            "  )\n",
            "  (dropout): Dropout(p=0.1, inplace=False)\n",
            "  (classifier): Linear(in_features=768, out_features=3, bias=True)\n",
            ")\n"
          ]
        }
      ],
      "source": [
        "model.to(device)\n",
        "print(model)"
      ]
    },
    {
      "cell_type": "markdown",
      "id": "6f23af88",
      "metadata": {
        "papermill": {
          "duration": 0.007553,
          "end_time": "2023-04-24T15:54:18.902584",
          "exception": false,
          "start_time": "2023-04-24T15:54:18.895031",
          "status": "completed"
        },
        "tags": [],
        "id": "6f23af88"
      },
      "source": [
        "##### The last 'classifier' layer has been intiated with un-trained weights"
      ]
    },
    {
      "cell_type": "markdown",
      "id": "3ceec320",
      "metadata": {
        "papermill": {
          "duration": 0.007377,
          "end_time": "2023-04-24T15:54:18.917833",
          "exception": false,
          "start_time": "2023-04-24T15:54:18.910456",
          "status": "completed"
        },
        "tags": [],
        "id": "3ceec320"
      },
      "source": [
        "##### Defining optimizer parameters for training"
      ]
    },
    {
      "cell_type": "code",
      "execution_count": 18,
      "id": "beee4315",
      "metadata": {
        "execution": {
          "iopub.execute_input": "2023-04-24T15:54:18.934927Z",
          "iopub.status.busy": "2023-04-24T15:54:18.934056Z",
          "iopub.status.idle": "2023-04-24T15:54:18.940242Z",
          "shell.execute_reply": "2023-04-24T15:54:18.939293Z"
        },
        "papermill": {
          "duration": 0.016677,
          "end_time": "2023-04-24T15:54:18.942242",
          "exception": false,
          "start_time": "2023-04-24T15:54:18.925565",
          "status": "completed"
        },
        "tags": [],
        "id": "beee4315"
      },
      "outputs": [],
      "source": [
        "# Note: AdamW is a class from the huggingface library (as opposed to pytorch) \n",
        "# 'W' stands for 'Weight Decay fix\"\n",
        "optimizer = AdamW(model.parameters(),\n",
        "                  lr = 5e-5, \n",
        "                  eps = 1e-8 # args.adam_epsilon  - default is 1e-8.\n",
        "                )\n"
      ]
    },
    {
      "cell_type": "markdown",
      "id": "4b0a3206",
      "metadata": {
        "papermill": {
          "duration": 0.007455,
          "end_time": "2023-04-24T15:54:18.957343",
          "exception": false,
          "start_time": "2023-04-24T15:54:18.949888",
          "status": "completed"
        },
        "tags": [],
        "id": "4b0a3206"
      },
      "source": [
        "##### Scheduler parameters for training"
      ]
    },
    {
      "cell_type": "code",
      "execution_count": 19,
      "id": "4713e268",
      "metadata": {
        "execution": {
          "iopub.execute_input": "2023-04-24T15:54:18.973708Z",
          "iopub.status.busy": "2023-04-24T15:54:18.973436Z",
          "iopub.status.idle": "2023-04-24T15:54:18.978543Z",
          "shell.execute_reply": "2023-04-24T15:54:18.977514Z"
        },
        "papermill": {
          "duration": 0.015723,
          "end_time": "2023-04-24T15:54:18.980688",
          "exception": false,
          "start_time": "2023-04-24T15:54:18.964965",
          "status": "completed"
        },
        "tags": [],
        "id": "4713e268"
      },
      "outputs": [],
      "source": [
        "epochs = 2\n",
        "\n",
        "# Total number of training steps is [number of batches] x [number of epochs]. \n",
        "total_steps = len(train_dataloader) * epochs\n",
        "\n",
        "# Create the learning rate scheduler.\n",
        "scheduler = get_linear_schedule_with_warmup(optimizer, \n",
        "                                            num_warmup_steps = 0, # Default value in run_glue.py\n",
        "                                            num_training_steps = total_steps)"
      ]
    },
    {
      "cell_type": "markdown",
      "id": "1e40cdcf",
      "metadata": {
        "papermill": {
          "duration": 0.007519,
          "end_time": "2023-04-24T15:54:18.995900",
          "exception": false,
          "start_time": "2023-04-24T15:54:18.988381",
          "status": "completed"
        },
        "tags": [],
        "id": "1e40cdcf"
      },
      "source": [
        "##### Defining a helper function"
      ]
    },
    {
      "cell_type": "code",
      "execution_count": 20,
      "id": "c936db9b",
      "metadata": {
        "execution": {
          "iopub.execute_input": "2023-04-24T15:54:19.012577Z",
          "iopub.status.busy": "2023-04-24T15:54:19.012313Z",
          "iopub.status.idle": "2023-04-24T15:54:19.018138Z",
          "shell.execute_reply": "2023-04-24T15:54:19.017085Z"
        },
        "papermill": {
          "duration": 0.016402,
          "end_time": "2023-04-24T15:54:19.020282",
          "exception": false,
          "start_time": "2023-04-24T15:54:19.003880",
          "status": "completed"
        },
        "tags": [],
        "id": "c936db9b"
      },
      "outputs": [],
      "source": [
        "# Function to calculate the accuracy of our predictions vs labels\n",
        "def flat_accuracy(preds, labels):\n",
        "    pred_flat = np.argmax(preds, axis=1).flatten()\n",
        "    labels_flat = labels.flatten()\n",
        "    return np.sum(pred_flat == labels_flat) / len(labels_flat)\n",
        "\n",
        "def format_time(elapsed):\n",
        "    '''\n",
        "    Takes a time in seconds and returns a string hh:mm:ss\n",
        "    '''\n",
        "    # Round to the nearest second.\n",
        "    elapsed_rounded = int(round((elapsed)))\n",
        "    \n",
        "    # Format as hh:mm:ss\n",
        "    return str(datetime.timedelta(seconds=elapsed_rounded))"
      ]
    },
    {
      "cell_type": "markdown",
      "id": "ccc1d529",
      "metadata": {
        "papermill": {
          "duration": 0.007499,
          "end_time": "2023-04-24T15:54:19.035419",
          "exception": false,
          "start_time": "2023-04-24T15:54:19.027920",
          "status": "completed"
        },
        "tags": [],
        "id": "ccc1d529"
      },
      "source": [
        "##### Training"
      ]
    },
    {
      "cell_type": "code",
      "execution_count": 21,
      "id": "ef1ea4f5",
      "metadata": {
        "execution": {
          "iopub.execute_input": "2023-04-24T15:54:19.052168Z",
          "iopub.status.busy": "2023-04-24T15:54:19.051909Z",
          "iopub.status.idle": "2023-04-24T18:51:09.698557Z",
          "shell.execute_reply": "2023-04-24T18:51:09.697411Z"
        },
        "papermill": {
          "duration": 10610.705852,
          "end_time": "2023-04-24T18:51:09.748931",
          "exception": false,
          "start_time": "2023-04-24T15:54:19.043079",
          "status": "completed"
        },
        "tags": [],
        "colab": {
          "base_uri": "https://localhost:8080/"
        },
        "id": "ef1ea4f5",
        "outputId": "06aa3913-55a4-40ea-ec2d-82549b29d91e"
      },
      "outputs": [
        {
          "output_type": "stream",
          "name": "stdout",
          "text": [
            "\n",
            "======== Epoch 1 / 2 ========\n",
            "Training...\n",
            "  Batch   100  of  1,967.    Elapsed: 0:00:21.\n",
            "  Batch   200  of  1,967.    Elapsed: 0:00:39.\n",
            "  Batch   300  of  1,967.    Elapsed: 0:00:58.\n",
            "  Batch   400  of  1,967.    Elapsed: 0:01:19.\n",
            "  Batch   500  of  1,967.    Elapsed: 0:01:39.\n",
            "  Batch   600  of  1,967.    Elapsed: 0:01:59.\n",
            "  Batch   700  of  1,967.    Elapsed: 0:02:19.\n",
            "  Batch   800  of  1,967.    Elapsed: 0:02:38.\n",
            "  Batch   900  of  1,967.    Elapsed: 0:02:58.\n",
            "  Batch 1,000  of  1,967.    Elapsed: 0:03:18.\n",
            "  Batch 1,100  of  1,967.    Elapsed: 0:03:38.\n",
            "  Batch 1,200  of  1,967.    Elapsed: 0:03:57.\n",
            "  Batch 1,300  of  1,967.    Elapsed: 0:04:17.\n",
            "  Batch 1,400  of  1,967.    Elapsed: 0:04:37.\n",
            "  Batch 1,500  of  1,967.    Elapsed: 0:04:56.\n",
            "  Batch 1,600  of  1,967.    Elapsed: 0:05:16.\n",
            "  Batch 1,700  of  1,967.    Elapsed: 0:05:36.\n",
            "  Batch 1,800  of  1,967.    Elapsed: 0:05:56.\n",
            "  Batch 1,900  of  1,967.    Elapsed: 0:06:15.\n",
            "\n",
            "  Average training loss: 0.36\n",
            "  Training epcoh took: 0:06:29\n",
            "\n",
            "Running Validation...\n",
            "  Accuracy: 0.86\n",
            "  Validation Loss: 0.33\n",
            "  Validation took: 0:00:49\n",
            "\n",
            "======== Epoch 2 / 2 ========\n",
            "Training...\n",
            "  Batch   100  of  1,967.    Elapsed: 0:00:20.\n",
            "  Batch   200  of  1,967.    Elapsed: 0:00:39.\n",
            "  Batch   300  of  1,967.    Elapsed: 0:00:59.\n",
            "  Batch   400  of  1,967.    Elapsed: 0:01:19.\n",
            "  Batch   500  of  1,967.    Elapsed: 0:01:39.\n",
            "  Batch   600  of  1,967.    Elapsed: 0:01:58.\n",
            "  Batch   700  of  1,967.    Elapsed: 0:02:18.\n",
            "  Batch   800  of  1,967.    Elapsed: 0:02:38.\n",
            "  Batch   900  of  1,967.    Elapsed: 0:02:57.\n",
            "  Batch 1,000  of  1,967.    Elapsed: 0:03:17.\n",
            "  Batch 1,100  of  1,967.    Elapsed: 0:03:37.\n",
            "  Batch 1,200  of  1,967.    Elapsed: 0:03:57.\n",
            "  Batch 1,300  of  1,967.    Elapsed: 0:04:16.\n",
            "  Batch 1,400  of  1,967.    Elapsed: 0:04:36.\n",
            "  Batch 1,500  of  1,967.    Elapsed: 0:04:56.\n",
            "  Batch 1,600  of  1,967.    Elapsed: 0:05:16.\n",
            "  Batch 1,700  of  1,967.    Elapsed: 0:05:35.\n",
            "  Batch 1,800  of  1,967.    Elapsed: 0:05:55.\n",
            "  Batch 1,900  of  1,967.    Elapsed: 0:06:15.\n",
            "\n",
            "  Average training loss: 0.23\n",
            "  Training epcoh took: 0:06:28\n",
            "\n",
            "Running Validation...\n",
            "  Accuracy: 0.86\n",
            "  Validation Loss: 0.35\n",
            "  Validation took: 0:00:48\n",
            "\n",
            "Training complete!\n",
            "Total training took 0:14:33 (h:mm:ss)\n"
          ]
        }
      ],
      "source": [
        "# We'll store a number of quantities such as training and validation loss, \n",
        "# validation accuracy, and timings.\n",
        "training_stats = []\n",
        "\n",
        "# Measure the total training time for the whole run.\n",
        "total_t0 = time.time()\n",
        "\n",
        "# For each epoch...\n",
        "for epoch_i in range(0, epochs):\n",
        "    \n",
        "    # ========================================\n",
        "    #               Training\n",
        "    # ========================================\n",
        "    \n",
        "    # Perform one full pass over the training set.\n",
        "\n",
        "    print(\"\")\n",
        "    print('======== Epoch {:} / {:} ========'.format(epoch_i + 1, epochs))\n",
        "    print('Training...')\n",
        "\n",
        "    # Measure how long the training epoch takes.\n",
        "    t0 = time.time()\n",
        "\n",
        "    # Reset the total loss for this epoch.\n",
        "    total_train_loss = 0\n",
        "\n",
        "    # Put the model into training mode. \n",
        "    model.train()\n",
        "\n",
        "    # For each batch of training data...\n",
        "    for step, batch in enumerate(train_dataloader):\n",
        "\n",
        "        # Progress update every 40 batches.\n",
        "        if step % 100 == 0 and not step == 0:\n",
        "            # Calculate elapsed time in minutes.\n",
        "            elapsed = format_time(time.time() - t0)\n",
        "            \n",
        "            # Report progress.\n",
        "            print('  Batch {:>5,}  of  {:>5,}.    Elapsed: {:}.'.format(step, len(train_dataloader), elapsed))\n",
        "\n",
        "        # Unpack this training batch from our dataloader. \n",
        "        # \n",
        "        # `batch` contains three pytorch tensors:\n",
        "        #   [0]: input ids \n",
        "        #   [1]: attention masks\n",
        "        #   [2]: labels \n",
        "        b_input_ids = batch[0].to(device)\n",
        "        b_input_mask = batch[1].to(device)\n",
        "        b_labels = batch[2].to(device)\n",
        "\n",
        "        # Clear Gradients\n",
        "        model.zero_grad()        \n",
        "\n",
        "        # Perform a forward pass (evaluate the model on this training batch)\n",
        "        output = model(b_input_ids, \n",
        "                             token_type_ids=None, \n",
        "                             attention_mask=b_input_mask, \n",
        "                             labels=b_labels)\n",
        "\n",
        "        loss, logits = output.loss, output.logits\n",
        "\n",
        "        # Accumulate the training loss over all of the batches\n",
        "        total_train_loss += loss.item()\n",
        "\n",
        "        # Perform a backward pass to calculate the gradients.\n",
        "        loss.backward()\n",
        "\n",
        "        # Clip the norm of the gradients to 1.0.\n",
        "        # This is to help prevent the \"exploding gradients\" problem.\n",
        "        torch.nn.utils.clip_grad_norm_(model.parameters(), 1.0)\n",
        "\n",
        "        # Update parameters and take a step using the computed gradient.\n",
        "        optimizer.step()\n",
        "\n",
        "        # Update the learning rate.\n",
        "        scheduler.step()\n",
        "\n",
        "    # Calculate the average loss over all of the batches.\n",
        "    avg_train_loss = total_train_loss / len(train_dataloader)            \n",
        "    \n",
        "    # Measure how long this epoch took.\n",
        "    training_time = format_time(time.time() - t0)\n",
        "\n",
        "    print(\"\")\n",
        "    print(\"  Average training loss: {0:.2f}\".format(avg_train_loss))\n",
        "    print(\"  Training epcoh took: {:}\".format(training_time))\n",
        "        \n",
        "    # ========================================\n",
        "    #               Validation\n",
        "    # ========================================\n",
        "    # After the completion of each training epoch, measure our performance on\n",
        "    # our validation set.\n",
        "\n",
        "    print(\"\")\n",
        "    print(\"Running Validation...\")\n",
        "\n",
        "    t0 = time.time()\n",
        "\n",
        "    # Put the model in evaluation mode\n",
        "    model.eval()\n",
        "\n",
        "    # Tracking variables \n",
        "    total_eval_accuracy = 0\n",
        "    total_eval_loss = 0\n",
        "    nb_eval_steps = 0\n",
        "\n",
        "    # Evaluate data for one epoch\n",
        "    for batch in val_dataloader:\n",
        "        \n",
        "        # Unpack this training batch from our dataloader. \n",
        "        #\n",
        "        # `batch` contains three pytorch tensors:\n",
        "        #   [0]: input ids \n",
        "        #   [1]: attention masks\n",
        "        #   [2]: labels \n",
        "        b_input_ids = batch[0].to(device)\n",
        "        b_input_mask = batch[1].to(device)\n",
        "        b_labels = batch[2].to(device)\n",
        "        \n",
        "        # Tell pytorch not to bother with constructing the compute graph during\n",
        "        # the forward pass, since this is only needed for backprop (training).\n",
        "        with torch.no_grad():        \n",
        "\n",
        "            # Forward pass, calculate logit predictions.\n",
        "            # token_type_ids is the same as the \"segment ids\", which \n",
        "            # differentiates sentence 1 and 2 in 2-sentence tasks.\n",
        "            output = model(b_input_ids, \n",
        "                                   token_type_ids=None, \n",
        "                                   attention_mask=b_input_mask,\n",
        "                                   labels=b_labels)\n",
        "            \n",
        "            loss, logits = output.loss, output.logits\n",
        "            \n",
        "        # Accumulate the validation loss.\n",
        "        total_eval_loss += loss.item()\n",
        "\n",
        "        # Move logits and labels to CPU\n",
        "        logits = logits.detach().cpu().numpy()\n",
        "        label_ids = b_labels.to('cpu').numpy()\n",
        "\n",
        "        # Calculate the accuracy for this batch of test sentences, and\n",
        "        # accumulate it over all batches.\n",
        "        total_eval_accuracy += flat_accuracy(logits, label_ids)\n",
        "        \n",
        "\n",
        "    # Report the final accuracy for this validation run.\n",
        "    avg_val_accuracy = total_eval_accuracy / len(val_dataloader)\n",
        "    print(\"  Accuracy: {0:.2f}\".format(avg_val_accuracy))\n",
        "\n",
        "    # Calculate the average loss over all of the batches.\n",
        "    avg_val_loss = total_eval_loss / len(val_dataloader)\n",
        "    \n",
        "    # Measure how long the validation run took.\n",
        "    validation_time = format_time(time.time() - t0)\n",
        "    \n",
        "    print(\"  Validation Loss: {0:.2f}\".format(avg_val_loss))\n",
        "    print(\"  Validation took: {:}\".format(validation_time))\n",
        "\n",
        "    # Record all statistics from this epoch.\n",
        "    training_stats.append(\n",
        "        {\n",
        "            'epoch': epoch_i + 1,\n",
        "            'Training Loss': avg_train_loss,\n",
        "            'Valid. Loss': avg_val_loss,\n",
        "            'Valid. Accur.': avg_val_accuracy,\n",
        "            'Training Time': training_time,\n",
        "            'Validation Time': validation_time\n",
        "        }\n",
        "    )\n",
        "\n",
        "print(\"\")\n",
        "print(\"Training complete!\")\n",
        "\n",
        "print(\"Total training took {:} (h:mm:ss)\".format(format_time(time.time()-total_t0)))"
      ]
    }
  ],
  "metadata": {
    "kernelspec": {
      "display_name": "Python 3",
      "language": "python",
      "name": "python3"
    },
    "language_info": {
      "codemirror_mode": {
        "name": "ipython",
        "version": 3
      },
      "file_extension": ".py",
      "mimetype": "text/x-python",
      "name": "python",
      "nbconvert_exporter": "python",
      "pygments_lexer": "ipython3",
      "version": "3.7.12"
    },
    "papermill": {
      "default_parameters": {},
      "duration": 10735.146506,
      "end_time": "2023-04-24T18:51:13.936188",
      "environment_variables": {},
      "exception": null,
      "input_path": "__notebook__.ipynb",
      "output_path": "__notebook__.ipynb",
      "parameters": {},
      "start_time": "2023-04-24T15:52:18.789682",
      "version": "2.4.0"
    },
    "widgets": {
      "application/vnd.jupyter.widget-state+json": {
        "8200d9715e6941cfbd6b33873b954dbf": {
          "model_module": "@jupyter-widgets/controls",
          "model_name": "HBoxModel",
          "model_module_version": "1.5.0",
          "state": {
            "_dom_classes": [],
            "_model_module": "@jupyter-widgets/controls",
            "_model_module_version": "1.5.0",
            "_model_name": "HBoxModel",
            "_view_count": null,
            "_view_module": "@jupyter-widgets/controls",
            "_view_module_version": "1.5.0",
            "_view_name": "HBoxView",
            "box_style": "",
            "children": [
              "IPY_MODEL_a7c1c345adbd477d8d25a453301122fc",
              "IPY_MODEL_691fccc6537548afa7f0f7841cd1a7e6",
              "IPY_MODEL_70cf26ff99fb47b4ad512054415b7d89"
            ],
            "layout": "IPY_MODEL_6fd670e5fec54821ab59624d17705706"
          }
        },
        "a7c1c345adbd477d8d25a453301122fc": {
          "model_module": "@jupyter-widgets/controls",
          "model_name": "HTMLModel",
          "model_module_version": "1.5.0",
          "state": {
            "_dom_classes": [],
            "_model_module": "@jupyter-widgets/controls",
            "_model_module_version": "1.5.0",
            "_model_name": "HTMLModel",
            "_view_count": null,
            "_view_module": "@jupyter-widgets/controls",
            "_view_module_version": "1.5.0",
            "_view_name": "HTMLView",
            "description": "",
            "description_tooltip": null,
            "layout": "IPY_MODEL_2212e83b59814522bbcb154633a69b05",
            "placeholder": "​",
            "style": "IPY_MODEL_8aeba78d4cfe41e2bc3cd396ce5dc5c5",
            "value": "Downloading (…)lve/main/config.json: 100%"
          }
        },
        "691fccc6537548afa7f0f7841cd1a7e6": {
          "model_module": "@jupyter-widgets/controls",
          "model_name": "FloatProgressModel",
          "model_module_version": "1.5.0",
          "state": {
            "_dom_classes": [],
            "_model_module": "@jupyter-widgets/controls",
            "_model_module_version": "1.5.0",
            "_model_name": "FloatProgressModel",
            "_view_count": null,
            "_view_module": "@jupyter-widgets/controls",
            "_view_module_version": "1.5.0",
            "_view_name": "ProgressView",
            "bar_style": "success",
            "description": "",
            "description_tooltip": null,
            "layout": "IPY_MODEL_4366b73c410f422599fb4497c13fc8c4",
            "max": 570,
            "min": 0,
            "orientation": "horizontal",
            "style": "IPY_MODEL_4f2a6d2a4200448885a42bb68159b26e",
            "value": 570
          }
        },
        "70cf26ff99fb47b4ad512054415b7d89": {
          "model_module": "@jupyter-widgets/controls",
          "model_name": "HTMLModel",
          "model_module_version": "1.5.0",
          "state": {
            "_dom_classes": [],
            "_model_module": "@jupyter-widgets/controls",
            "_model_module_version": "1.5.0",
            "_model_name": "HTMLModel",
            "_view_count": null,
            "_view_module": "@jupyter-widgets/controls",
            "_view_module_version": "1.5.0",
            "_view_name": "HTMLView",
            "description": "",
            "description_tooltip": null,
            "layout": "IPY_MODEL_8a749344817741689632440a73622877",
            "placeholder": "​",
            "style": "IPY_MODEL_cbe4418bb783405187e13c6fbb226a08",
            "value": " 570/570 [00:00&lt;00:00, 37.0kB/s]"
          }
        },
        "6fd670e5fec54821ab59624d17705706": {
          "model_module": "@jupyter-widgets/base",
          "model_name": "LayoutModel",
          "model_module_version": "1.2.0",
          "state": {
            "_model_module": "@jupyter-widgets/base",
            "_model_module_version": "1.2.0",
            "_model_name": "LayoutModel",
            "_view_count": null,
            "_view_module": "@jupyter-widgets/base",
            "_view_module_version": "1.2.0",
            "_view_name": "LayoutView",
            "align_content": null,
            "align_items": null,
            "align_self": null,
            "border": null,
            "bottom": null,
            "display": null,
            "flex": null,
            "flex_flow": null,
            "grid_area": null,
            "grid_auto_columns": null,
            "grid_auto_flow": null,
            "grid_auto_rows": null,
            "grid_column": null,
            "grid_gap": null,
            "grid_row": null,
            "grid_template_areas": null,
            "grid_template_columns": null,
            "grid_template_rows": null,
            "height": null,
            "justify_content": null,
            "justify_items": null,
            "left": null,
            "margin": null,
            "max_height": null,
            "max_width": null,
            "min_height": null,
            "min_width": null,
            "object_fit": null,
            "object_position": null,
            "order": null,
            "overflow": null,
            "overflow_x": null,
            "overflow_y": null,
            "padding": null,
            "right": null,
            "top": null,
            "visibility": null,
            "width": null
          }
        },
        "2212e83b59814522bbcb154633a69b05": {
          "model_module": "@jupyter-widgets/base",
          "model_name": "LayoutModel",
          "model_module_version": "1.2.0",
          "state": {
            "_model_module": "@jupyter-widgets/base",
            "_model_module_version": "1.2.0",
            "_model_name": "LayoutModel",
            "_view_count": null,
            "_view_module": "@jupyter-widgets/base",
            "_view_module_version": "1.2.0",
            "_view_name": "LayoutView",
            "align_content": null,
            "align_items": null,
            "align_self": null,
            "border": null,
            "bottom": null,
            "display": null,
            "flex": null,
            "flex_flow": null,
            "grid_area": null,
            "grid_auto_columns": null,
            "grid_auto_flow": null,
            "grid_auto_rows": null,
            "grid_column": null,
            "grid_gap": null,
            "grid_row": null,
            "grid_template_areas": null,
            "grid_template_columns": null,
            "grid_template_rows": null,
            "height": null,
            "justify_content": null,
            "justify_items": null,
            "left": null,
            "margin": null,
            "max_height": null,
            "max_width": null,
            "min_height": null,
            "min_width": null,
            "object_fit": null,
            "object_position": null,
            "order": null,
            "overflow": null,
            "overflow_x": null,
            "overflow_y": null,
            "padding": null,
            "right": null,
            "top": null,
            "visibility": null,
            "width": null
          }
        },
        "8aeba78d4cfe41e2bc3cd396ce5dc5c5": {
          "model_module": "@jupyter-widgets/controls",
          "model_name": "DescriptionStyleModel",
          "model_module_version": "1.5.0",
          "state": {
            "_model_module": "@jupyter-widgets/controls",
            "_model_module_version": "1.5.0",
            "_model_name": "DescriptionStyleModel",
            "_view_count": null,
            "_view_module": "@jupyter-widgets/base",
            "_view_module_version": "1.2.0",
            "_view_name": "StyleView",
            "description_width": ""
          }
        },
        "4366b73c410f422599fb4497c13fc8c4": {
          "model_module": "@jupyter-widgets/base",
          "model_name": "LayoutModel",
          "model_module_version": "1.2.0",
          "state": {
            "_model_module": "@jupyter-widgets/base",
            "_model_module_version": "1.2.0",
            "_model_name": "LayoutModel",
            "_view_count": null,
            "_view_module": "@jupyter-widgets/base",
            "_view_module_version": "1.2.0",
            "_view_name": "LayoutView",
            "align_content": null,
            "align_items": null,
            "align_self": null,
            "border": null,
            "bottom": null,
            "display": null,
            "flex": null,
            "flex_flow": null,
            "grid_area": null,
            "grid_auto_columns": null,
            "grid_auto_flow": null,
            "grid_auto_rows": null,
            "grid_column": null,
            "grid_gap": null,
            "grid_row": null,
            "grid_template_areas": null,
            "grid_template_columns": null,
            "grid_template_rows": null,
            "height": null,
            "justify_content": null,
            "justify_items": null,
            "left": null,
            "margin": null,
            "max_height": null,
            "max_width": null,
            "min_height": null,
            "min_width": null,
            "object_fit": null,
            "object_position": null,
            "order": null,
            "overflow": null,
            "overflow_x": null,
            "overflow_y": null,
            "padding": null,
            "right": null,
            "top": null,
            "visibility": null,
            "width": null
          }
        },
        "4f2a6d2a4200448885a42bb68159b26e": {
          "model_module": "@jupyter-widgets/controls",
          "model_name": "ProgressStyleModel",
          "model_module_version": "1.5.0",
          "state": {
            "_model_module": "@jupyter-widgets/controls",
            "_model_module_version": "1.5.0",
            "_model_name": "ProgressStyleModel",
            "_view_count": null,
            "_view_module": "@jupyter-widgets/base",
            "_view_module_version": "1.2.0",
            "_view_name": "StyleView",
            "bar_color": null,
            "description_width": ""
          }
        },
        "8a749344817741689632440a73622877": {
          "model_module": "@jupyter-widgets/base",
          "model_name": "LayoutModel",
          "model_module_version": "1.2.0",
          "state": {
            "_model_module": "@jupyter-widgets/base",
            "_model_module_version": "1.2.0",
            "_model_name": "LayoutModel",
            "_view_count": null,
            "_view_module": "@jupyter-widgets/base",
            "_view_module_version": "1.2.0",
            "_view_name": "LayoutView",
            "align_content": null,
            "align_items": null,
            "align_self": null,
            "border": null,
            "bottom": null,
            "display": null,
            "flex": null,
            "flex_flow": null,
            "grid_area": null,
            "grid_auto_columns": null,
            "grid_auto_flow": null,
            "grid_auto_rows": null,
            "grid_column": null,
            "grid_gap": null,
            "grid_row": null,
            "grid_template_areas": null,
            "grid_template_columns": null,
            "grid_template_rows": null,
            "height": null,
            "justify_content": null,
            "justify_items": null,
            "left": null,
            "margin": null,
            "max_height": null,
            "max_width": null,
            "min_height": null,
            "min_width": null,
            "object_fit": null,
            "object_position": null,
            "order": null,
            "overflow": null,
            "overflow_x": null,
            "overflow_y": null,
            "padding": null,
            "right": null,
            "top": null,
            "visibility": null,
            "width": null
          }
        },
        "cbe4418bb783405187e13c6fbb226a08": {
          "model_module": "@jupyter-widgets/controls",
          "model_name": "DescriptionStyleModel",
          "model_module_version": "1.5.0",
          "state": {
            "_model_module": "@jupyter-widgets/controls",
            "_model_module_version": "1.5.0",
            "_model_name": "DescriptionStyleModel",
            "_view_count": null,
            "_view_module": "@jupyter-widgets/base",
            "_view_module_version": "1.2.0",
            "_view_name": "StyleView",
            "description_width": ""
          }
        },
        "730e909ffc5142e9a0d5eb4320316c74": {
          "model_module": "@jupyter-widgets/controls",
          "model_name": "HBoxModel",
          "model_module_version": "1.5.0",
          "state": {
            "_dom_classes": [],
            "_model_module": "@jupyter-widgets/controls",
            "_model_module_version": "1.5.0",
            "_model_name": "HBoxModel",
            "_view_count": null,
            "_view_module": "@jupyter-widgets/controls",
            "_view_module_version": "1.5.0",
            "_view_name": "HBoxView",
            "box_style": "",
            "children": [
              "IPY_MODEL_86fe8e5f095040e98e41aa4334febc04",
              "IPY_MODEL_0759f2e0b1014f4faf1e49a1187d92fc",
              "IPY_MODEL_0a512eebdfea43348a59cd46bc35963c"
            ],
            "layout": "IPY_MODEL_3c8bc4563aef48b69fd1e9a6e31ecb2b"
          }
        },
        "86fe8e5f095040e98e41aa4334febc04": {
          "model_module": "@jupyter-widgets/controls",
          "model_name": "HTMLModel",
          "model_module_version": "1.5.0",
          "state": {
            "_dom_classes": [],
            "_model_module": "@jupyter-widgets/controls",
            "_model_module_version": "1.5.0",
            "_model_name": "HTMLModel",
            "_view_count": null,
            "_view_module": "@jupyter-widgets/controls",
            "_view_module_version": "1.5.0",
            "_view_name": "HTMLView",
            "description": "",
            "description_tooltip": null,
            "layout": "IPY_MODEL_1f68747d01b64226a450bd44ebab5eb9",
            "placeholder": "​",
            "style": "IPY_MODEL_b43405a5f24042159a8a15cfbba6ce1d",
            "value": "Downloading pytorch_model.bin: 100%"
          }
        },
        "0759f2e0b1014f4faf1e49a1187d92fc": {
          "model_module": "@jupyter-widgets/controls",
          "model_name": "FloatProgressModel",
          "model_module_version": "1.5.0",
          "state": {
            "_dom_classes": [],
            "_model_module": "@jupyter-widgets/controls",
            "_model_module_version": "1.5.0",
            "_model_name": "FloatProgressModel",
            "_view_count": null,
            "_view_module": "@jupyter-widgets/controls",
            "_view_module_version": "1.5.0",
            "_view_name": "ProgressView",
            "bar_style": "success",
            "description": "",
            "description_tooltip": null,
            "layout": "IPY_MODEL_cce1f69cc704496c925082fe8ebf8b93",
            "max": 440473133,
            "min": 0,
            "orientation": "horizontal",
            "style": "IPY_MODEL_f0a334dc9a2b4464bbdfa03d9ea50f3f",
            "value": 440473133
          }
        },
        "0a512eebdfea43348a59cd46bc35963c": {
          "model_module": "@jupyter-widgets/controls",
          "model_name": "HTMLModel",
          "model_module_version": "1.5.0",
          "state": {
            "_dom_classes": [],
            "_model_module": "@jupyter-widgets/controls",
            "_model_module_version": "1.5.0",
            "_model_name": "HTMLModel",
            "_view_count": null,
            "_view_module": "@jupyter-widgets/controls",
            "_view_module_version": "1.5.0",
            "_view_name": "HTMLView",
            "description": "",
            "description_tooltip": null,
            "layout": "IPY_MODEL_6e1a5a8030694ab4b79f5fea4f6db34d",
            "placeholder": "​",
            "style": "IPY_MODEL_27c92383b5504d64a9e19ad686b8d845",
            "value": " 440M/440M [00:02&lt;00:00, 221MB/s]"
          }
        },
        "3c8bc4563aef48b69fd1e9a6e31ecb2b": {
          "model_module": "@jupyter-widgets/base",
          "model_name": "LayoutModel",
          "model_module_version": "1.2.0",
          "state": {
            "_model_module": "@jupyter-widgets/base",
            "_model_module_version": "1.2.0",
            "_model_name": "LayoutModel",
            "_view_count": null,
            "_view_module": "@jupyter-widgets/base",
            "_view_module_version": "1.2.0",
            "_view_name": "LayoutView",
            "align_content": null,
            "align_items": null,
            "align_self": null,
            "border": null,
            "bottom": null,
            "display": null,
            "flex": null,
            "flex_flow": null,
            "grid_area": null,
            "grid_auto_columns": null,
            "grid_auto_flow": null,
            "grid_auto_rows": null,
            "grid_column": null,
            "grid_gap": null,
            "grid_row": null,
            "grid_template_areas": null,
            "grid_template_columns": null,
            "grid_template_rows": null,
            "height": null,
            "justify_content": null,
            "justify_items": null,
            "left": null,
            "margin": null,
            "max_height": null,
            "max_width": null,
            "min_height": null,
            "min_width": null,
            "object_fit": null,
            "object_position": null,
            "order": null,
            "overflow": null,
            "overflow_x": null,
            "overflow_y": null,
            "padding": null,
            "right": null,
            "top": null,
            "visibility": null,
            "width": null
          }
        },
        "1f68747d01b64226a450bd44ebab5eb9": {
          "model_module": "@jupyter-widgets/base",
          "model_name": "LayoutModel",
          "model_module_version": "1.2.0",
          "state": {
            "_model_module": "@jupyter-widgets/base",
            "_model_module_version": "1.2.0",
            "_model_name": "LayoutModel",
            "_view_count": null,
            "_view_module": "@jupyter-widgets/base",
            "_view_module_version": "1.2.0",
            "_view_name": "LayoutView",
            "align_content": null,
            "align_items": null,
            "align_self": null,
            "border": null,
            "bottom": null,
            "display": null,
            "flex": null,
            "flex_flow": null,
            "grid_area": null,
            "grid_auto_columns": null,
            "grid_auto_flow": null,
            "grid_auto_rows": null,
            "grid_column": null,
            "grid_gap": null,
            "grid_row": null,
            "grid_template_areas": null,
            "grid_template_columns": null,
            "grid_template_rows": null,
            "height": null,
            "justify_content": null,
            "justify_items": null,
            "left": null,
            "margin": null,
            "max_height": null,
            "max_width": null,
            "min_height": null,
            "min_width": null,
            "object_fit": null,
            "object_position": null,
            "order": null,
            "overflow": null,
            "overflow_x": null,
            "overflow_y": null,
            "padding": null,
            "right": null,
            "top": null,
            "visibility": null,
            "width": null
          }
        },
        "b43405a5f24042159a8a15cfbba6ce1d": {
          "model_module": "@jupyter-widgets/controls",
          "model_name": "DescriptionStyleModel",
          "model_module_version": "1.5.0",
          "state": {
            "_model_module": "@jupyter-widgets/controls",
            "_model_module_version": "1.5.0",
            "_model_name": "DescriptionStyleModel",
            "_view_count": null,
            "_view_module": "@jupyter-widgets/base",
            "_view_module_version": "1.2.0",
            "_view_name": "StyleView",
            "description_width": ""
          }
        },
        "cce1f69cc704496c925082fe8ebf8b93": {
          "model_module": "@jupyter-widgets/base",
          "model_name": "LayoutModel",
          "model_module_version": "1.2.0",
          "state": {
            "_model_module": "@jupyter-widgets/base",
            "_model_module_version": "1.2.0",
            "_model_name": "LayoutModel",
            "_view_count": null,
            "_view_module": "@jupyter-widgets/base",
            "_view_module_version": "1.2.0",
            "_view_name": "LayoutView",
            "align_content": null,
            "align_items": null,
            "align_self": null,
            "border": null,
            "bottom": null,
            "display": null,
            "flex": null,
            "flex_flow": null,
            "grid_area": null,
            "grid_auto_columns": null,
            "grid_auto_flow": null,
            "grid_auto_rows": null,
            "grid_column": null,
            "grid_gap": null,
            "grid_row": null,
            "grid_template_areas": null,
            "grid_template_columns": null,
            "grid_template_rows": null,
            "height": null,
            "justify_content": null,
            "justify_items": null,
            "left": null,
            "margin": null,
            "max_height": null,
            "max_width": null,
            "min_height": null,
            "min_width": null,
            "object_fit": null,
            "object_position": null,
            "order": null,
            "overflow": null,
            "overflow_x": null,
            "overflow_y": null,
            "padding": null,
            "right": null,
            "top": null,
            "visibility": null,
            "width": null
          }
        },
        "f0a334dc9a2b4464bbdfa03d9ea50f3f": {
          "model_module": "@jupyter-widgets/controls",
          "model_name": "ProgressStyleModel",
          "model_module_version": "1.5.0",
          "state": {
            "_model_module": "@jupyter-widgets/controls",
            "_model_module_version": "1.5.0",
            "_model_name": "ProgressStyleModel",
            "_view_count": null,
            "_view_module": "@jupyter-widgets/base",
            "_view_module_version": "1.2.0",
            "_view_name": "StyleView",
            "bar_color": null,
            "description_width": ""
          }
        },
        "6e1a5a8030694ab4b79f5fea4f6db34d": {
          "model_module": "@jupyter-widgets/base",
          "model_name": "LayoutModel",
          "model_module_version": "1.2.0",
          "state": {
            "_model_module": "@jupyter-widgets/base",
            "_model_module_version": "1.2.0",
            "_model_name": "LayoutModel",
            "_view_count": null,
            "_view_module": "@jupyter-widgets/base",
            "_view_module_version": "1.2.0",
            "_view_name": "LayoutView",
            "align_content": null,
            "align_items": null,
            "align_self": null,
            "border": null,
            "bottom": null,
            "display": null,
            "flex": null,
            "flex_flow": null,
            "grid_area": null,
            "grid_auto_columns": null,
            "grid_auto_flow": null,
            "grid_auto_rows": null,
            "grid_column": null,
            "grid_gap": null,
            "grid_row": null,
            "grid_template_areas": null,
            "grid_template_columns": null,
            "grid_template_rows": null,
            "height": null,
            "justify_content": null,
            "justify_items": null,
            "left": null,
            "margin": null,
            "max_height": null,
            "max_width": null,
            "min_height": null,
            "min_width": null,
            "object_fit": null,
            "object_position": null,
            "order": null,
            "overflow": null,
            "overflow_x": null,
            "overflow_y": null,
            "padding": null,
            "right": null,
            "top": null,
            "visibility": null,
            "width": null
          }
        },
        "27c92383b5504d64a9e19ad686b8d845": {
          "model_module": "@jupyter-widgets/controls",
          "model_name": "DescriptionStyleModel",
          "model_module_version": "1.5.0",
          "state": {
            "_model_module": "@jupyter-widgets/controls",
            "_model_module_version": "1.5.0",
            "_model_name": "DescriptionStyleModel",
            "_view_count": null,
            "_view_module": "@jupyter-widgets/base",
            "_view_module_version": "1.2.0",
            "_view_name": "StyleView",
            "description_width": ""
          }
        },
        "02b2c07d66924165af6d382ed9776eb8": {
          "model_module": "@jupyter-widgets/controls",
          "model_name": "HBoxModel",
          "model_module_version": "1.5.0",
          "state": {
            "_dom_classes": [],
            "_model_module": "@jupyter-widgets/controls",
            "_model_module_version": "1.5.0",
            "_model_name": "HBoxModel",
            "_view_count": null,
            "_view_module": "@jupyter-widgets/controls",
            "_view_module_version": "1.5.0",
            "_view_name": "HBoxView",
            "box_style": "",
            "children": [
              "IPY_MODEL_712004e2b0204d2090a3da9da760765f",
              "IPY_MODEL_2cb7bb12c1504204811d7dab7ae64acc",
              "IPY_MODEL_537e9fd0fdbf4254a5d5ff3084507290"
            ],
            "layout": "IPY_MODEL_eff6d4b5e478492c96d77ac9de1187c1"
          }
        },
        "712004e2b0204d2090a3da9da760765f": {
          "model_module": "@jupyter-widgets/controls",
          "model_name": "HTMLModel",
          "model_module_version": "1.5.0",
          "state": {
            "_dom_classes": [],
            "_model_module": "@jupyter-widgets/controls",
            "_model_module_version": "1.5.0",
            "_model_name": "HTMLModel",
            "_view_count": null,
            "_view_module": "@jupyter-widgets/controls",
            "_view_module_version": "1.5.0",
            "_view_name": "HTMLView",
            "description": "",
            "description_tooltip": null,
            "layout": "IPY_MODEL_5f884a4aff5e49dab34f04679b726117",
            "placeholder": "​",
            "style": "IPY_MODEL_458f23c8b8dc4908b13d057e869c447e",
            "value": "Downloading (…)okenizer_config.json: 100%"
          }
        },
        "2cb7bb12c1504204811d7dab7ae64acc": {
          "model_module": "@jupyter-widgets/controls",
          "model_name": "FloatProgressModel",
          "model_module_version": "1.5.0",
          "state": {
            "_dom_classes": [],
            "_model_module": "@jupyter-widgets/controls",
            "_model_module_version": "1.5.0",
            "_model_name": "FloatProgressModel",
            "_view_count": null,
            "_view_module": "@jupyter-widgets/controls",
            "_view_module_version": "1.5.0",
            "_view_name": "ProgressView",
            "bar_style": "success",
            "description": "",
            "description_tooltip": null,
            "layout": "IPY_MODEL_32a235dd7403405991afcd8d7289ba73",
            "max": 28,
            "min": 0,
            "orientation": "horizontal",
            "style": "IPY_MODEL_0643b88b3664441a97feb8257bb7b114",
            "value": 28
          }
        },
        "537e9fd0fdbf4254a5d5ff3084507290": {
          "model_module": "@jupyter-widgets/controls",
          "model_name": "HTMLModel",
          "model_module_version": "1.5.0",
          "state": {
            "_dom_classes": [],
            "_model_module": "@jupyter-widgets/controls",
            "_model_module_version": "1.5.0",
            "_model_name": "HTMLModel",
            "_view_count": null,
            "_view_module": "@jupyter-widgets/controls",
            "_view_module_version": "1.5.0",
            "_view_name": "HTMLView",
            "description": "",
            "description_tooltip": null,
            "layout": "IPY_MODEL_60b7be6e8bb34dc6b4ba1265f24ee9c1",
            "placeholder": "​",
            "style": "IPY_MODEL_ee9ca110b62a46fbb2d889651cc1b705",
            "value": " 28.0/28.0 [00:00&lt;00:00, 1.73kB/s]"
          }
        },
        "eff6d4b5e478492c96d77ac9de1187c1": {
          "model_module": "@jupyter-widgets/base",
          "model_name": "LayoutModel",
          "model_module_version": "1.2.0",
          "state": {
            "_model_module": "@jupyter-widgets/base",
            "_model_module_version": "1.2.0",
            "_model_name": "LayoutModel",
            "_view_count": null,
            "_view_module": "@jupyter-widgets/base",
            "_view_module_version": "1.2.0",
            "_view_name": "LayoutView",
            "align_content": null,
            "align_items": null,
            "align_self": null,
            "border": null,
            "bottom": null,
            "display": null,
            "flex": null,
            "flex_flow": null,
            "grid_area": null,
            "grid_auto_columns": null,
            "grid_auto_flow": null,
            "grid_auto_rows": null,
            "grid_column": null,
            "grid_gap": null,
            "grid_row": null,
            "grid_template_areas": null,
            "grid_template_columns": null,
            "grid_template_rows": null,
            "height": null,
            "justify_content": null,
            "justify_items": null,
            "left": null,
            "margin": null,
            "max_height": null,
            "max_width": null,
            "min_height": null,
            "min_width": null,
            "object_fit": null,
            "object_position": null,
            "order": null,
            "overflow": null,
            "overflow_x": null,
            "overflow_y": null,
            "padding": null,
            "right": null,
            "top": null,
            "visibility": null,
            "width": null
          }
        },
        "5f884a4aff5e49dab34f04679b726117": {
          "model_module": "@jupyter-widgets/base",
          "model_name": "LayoutModel",
          "model_module_version": "1.2.0",
          "state": {
            "_model_module": "@jupyter-widgets/base",
            "_model_module_version": "1.2.0",
            "_model_name": "LayoutModel",
            "_view_count": null,
            "_view_module": "@jupyter-widgets/base",
            "_view_module_version": "1.2.0",
            "_view_name": "LayoutView",
            "align_content": null,
            "align_items": null,
            "align_self": null,
            "border": null,
            "bottom": null,
            "display": null,
            "flex": null,
            "flex_flow": null,
            "grid_area": null,
            "grid_auto_columns": null,
            "grid_auto_flow": null,
            "grid_auto_rows": null,
            "grid_column": null,
            "grid_gap": null,
            "grid_row": null,
            "grid_template_areas": null,
            "grid_template_columns": null,
            "grid_template_rows": null,
            "height": null,
            "justify_content": null,
            "justify_items": null,
            "left": null,
            "margin": null,
            "max_height": null,
            "max_width": null,
            "min_height": null,
            "min_width": null,
            "object_fit": null,
            "object_position": null,
            "order": null,
            "overflow": null,
            "overflow_x": null,
            "overflow_y": null,
            "padding": null,
            "right": null,
            "top": null,
            "visibility": null,
            "width": null
          }
        },
        "458f23c8b8dc4908b13d057e869c447e": {
          "model_module": "@jupyter-widgets/controls",
          "model_name": "DescriptionStyleModel",
          "model_module_version": "1.5.0",
          "state": {
            "_model_module": "@jupyter-widgets/controls",
            "_model_module_version": "1.5.0",
            "_model_name": "DescriptionStyleModel",
            "_view_count": null,
            "_view_module": "@jupyter-widgets/base",
            "_view_module_version": "1.2.0",
            "_view_name": "StyleView",
            "description_width": ""
          }
        },
        "32a235dd7403405991afcd8d7289ba73": {
          "model_module": "@jupyter-widgets/base",
          "model_name": "LayoutModel",
          "model_module_version": "1.2.0",
          "state": {
            "_model_module": "@jupyter-widgets/base",
            "_model_module_version": "1.2.0",
            "_model_name": "LayoutModel",
            "_view_count": null,
            "_view_module": "@jupyter-widgets/base",
            "_view_module_version": "1.2.0",
            "_view_name": "LayoutView",
            "align_content": null,
            "align_items": null,
            "align_self": null,
            "border": null,
            "bottom": null,
            "display": null,
            "flex": null,
            "flex_flow": null,
            "grid_area": null,
            "grid_auto_columns": null,
            "grid_auto_flow": null,
            "grid_auto_rows": null,
            "grid_column": null,
            "grid_gap": null,
            "grid_row": null,
            "grid_template_areas": null,
            "grid_template_columns": null,
            "grid_template_rows": null,
            "height": null,
            "justify_content": null,
            "justify_items": null,
            "left": null,
            "margin": null,
            "max_height": null,
            "max_width": null,
            "min_height": null,
            "min_width": null,
            "object_fit": null,
            "object_position": null,
            "order": null,
            "overflow": null,
            "overflow_x": null,
            "overflow_y": null,
            "padding": null,
            "right": null,
            "top": null,
            "visibility": null,
            "width": null
          }
        },
        "0643b88b3664441a97feb8257bb7b114": {
          "model_module": "@jupyter-widgets/controls",
          "model_name": "ProgressStyleModel",
          "model_module_version": "1.5.0",
          "state": {
            "_model_module": "@jupyter-widgets/controls",
            "_model_module_version": "1.5.0",
            "_model_name": "ProgressStyleModel",
            "_view_count": null,
            "_view_module": "@jupyter-widgets/base",
            "_view_module_version": "1.2.0",
            "_view_name": "StyleView",
            "bar_color": null,
            "description_width": ""
          }
        },
        "60b7be6e8bb34dc6b4ba1265f24ee9c1": {
          "model_module": "@jupyter-widgets/base",
          "model_name": "LayoutModel",
          "model_module_version": "1.2.0",
          "state": {
            "_model_module": "@jupyter-widgets/base",
            "_model_module_version": "1.2.0",
            "_model_name": "LayoutModel",
            "_view_count": null,
            "_view_module": "@jupyter-widgets/base",
            "_view_module_version": "1.2.0",
            "_view_name": "LayoutView",
            "align_content": null,
            "align_items": null,
            "align_self": null,
            "border": null,
            "bottom": null,
            "display": null,
            "flex": null,
            "flex_flow": null,
            "grid_area": null,
            "grid_auto_columns": null,
            "grid_auto_flow": null,
            "grid_auto_rows": null,
            "grid_column": null,
            "grid_gap": null,
            "grid_row": null,
            "grid_template_areas": null,
            "grid_template_columns": null,
            "grid_template_rows": null,
            "height": null,
            "justify_content": null,
            "justify_items": null,
            "left": null,
            "margin": null,
            "max_height": null,
            "max_width": null,
            "min_height": null,
            "min_width": null,
            "object_fit": null,
            "object_position": null,
            "order": null,
            "overflow": null,
            "overflow_x": null,
            "overflow_y": null,
            "padding": null,
            "right": null,
            "top": null,
            "visibility": null,
            "width": null
          }
        },
        "ee9ca110b62a46fbb2d889651cc1b705": {
          "model_module": "@jupyter-widgets/controls",
          "model_name": "DescriptionStyleModel",
          "model_module_version": "1.5.0",
          "state": {
            "_model_module": "@jupyter-widgets/controls",
            "_model_module_version": "1.5.0",
            "_model_name": "DescriptionStyleModel",
            "_view_count": null,
            "_view_module": "@jupyter-widgets/base",
            "_view_module_version": "1.2.0",
            "_view_name": "StyleView",
            "description_width": ""
          }
        },
        "d598269e88504dc39f58dd5dc5ed96e3": {
          "model_module": "@jupyter-widgets/controls",
          "model_name": "HBoxModel",
          "model_module_version": "1.5.0",
          "state": {
            "_dom_classes": [],
            "_model_module": "@jupyter-widgets/controls",
            "_model_module_version": "1.5.0",
            "_model_name": "HBoxModel",
            "_view_count": null,
            "_view_module": "@jupyter-widgets/controls",
            "_view_module_version": "1.5.0",
            "_view_name": "HBoxView",
            "box_style": "",
            "children": [
              "IPY_MODEL_d246c5d50c8a46c99cb63c9ef7959937",
              "IPY_MODEL_9ff7ce9d4b824e049e74bc62a5ec9ce2",
              "IPY_MODEL_407aac0cf3a34b37b0157ab8a81c64a3"
            ],
            "layout": "IPY_MODEL_2daef215001843e7896d8a950699cce4"
          }
        },
        "d246c5d50c8a46c99cb63c9ef7959937": {
          "model_module": "@jupyter-widgets/controls",
          "model_name": "HTMLModel",
          "model_module_version": "1.5.0",
          "state": {
            "_dom_classes": [],
            "_model_module": "@jupyter-widgets/controls",
            "_model_module_version": "1.5.0",
            "_model_name": "HTMLModel",
            "_view_count": null,
            "_view_module": "@jupyter-widgets/controls",
            "_view_module_version": "1.5.0",
            "_view_name": "HTMLView",
            "description": "",
            "description_tooltip": null,
            "layout": "IPY_MODEL_bad151a189b24a8893b952d63f8a97af",
            "placeholder": "​",
            "style": "IPY_MODEL_13f2c061c5af4d65b4b588dee5a3b4dd",
            "value": "Downloading (…)solve/main/vocab.txt: 100%"
          }
        },
        "9ff7ce9d4b824e049e74bc62a5ec9ce2": {
          "model_module": "@jupyter-widgets/controls",
          "model_name": "FloatProgressModel",
          "model_module_version": "1.5.0",
          "state": {
            "_dom_classes": [],
            "_model_module": "@jupyter-widgets/controls",
            "_model_module_version": "1.5.0",
            "_model_name": "FloatProgressModel",
            "_view_count": null,
            "_view_module": "@jupyter-widgets/controls",
            "_view_module_version": "1.5.0",
            "_view_name": "ProgressView",
            "bar_style": "success",
            "description": "",
            "description_tooltip": null,
            "layout": "IPY_MODEL_20546ac470ed45f99f212e545762bdb2",
            "max": 231508,
            "min": 0,
            "orientation": "horizontal",
            "style": "IPY_MODEL_4fabe02a6ea4455db0eba13e38614737",
            "value": 231508
          }
        },
        "407aac0cf3a34b37b0157ab8a81c64a3": {
          "model_module": "@jupyter-widgets/controls",
          "model_name": "HTMLModel",
          "model_module_version": "1.5.0",
          "state": {
            "_dom_classes": [],
            "_model_module": "@jupyter-widgets/controls",
            "_model_module_version": "1.5.0",
            "_model_name": "HTMLModel",
            "_view_count": null,
            "_view_module": "@jupyter-widgets/controls",
            "_view_module_version": "1.5.0",
            "_view_name": "HTMLView",
            "description": "",
            "description_tooltip": null,
            "layout": "IPY_MODEL_776edc8447664a8a997425381706e3f8",
            "placeholder": "​",
            "style": "IPY_MODEL_70eece4943624895aec0fbbbf52953ee",
            "value": " 232k/232k [00:00&lt;00:00, 4.74MB/s]"
          }
        },
        "2daef215001843e7896d8a950699cce4": {
          "model_module": "@jupyter-widgets/base",
          "model_name": "LayoutModel",
          "model_module_version": "1.2.0",
          "state": {
            "_model_module": "@jupyter-widgets/base",
            "_model_module_version": "1.2.0",
            "_model_name": "LayoutModel",
            "_view_count": null,
            "_view_module": "@jupyter-widgets/base",
            "_view_module_version": "1.2.0",
            "_view_name": "LayoutView",
            "align_content": null,
            "align_items": null,
            "align_self": null,
            "border": null,
            "bottom": null,
            "display": null,
            "flex": null,
            "flex_flow": null,
            "grid_area": null,
            "grid_auto_columns": null,
            "grid_auto_flow": null,
            "grid_auto_rows": null,
            "grid_column": null,
            "grid_gap": null,
            "grid_row": null,
            "grid_template_areas": null,
            "grid_template_columns": null,
            "grid_template_rows": null,
            "height": null,
            "justify_content": null,
            "justify_items": null,
            "left": null,
            "margin": null,
            "max_height": null,
            "max_width": null,
            "min_height": null,
            "min_width": null,
            "object_fit": null,
            "object_position": null,
            "order": null,
            "overflow": null,
            "overflow_x": null,
            "overflow_y": null,
            "padding": null,
            "right": null,
            "top": null,
            "visibility": null,
            "width": null
          }
        },
        "bad151a189b24a8893b952d63f8a97af": {
          "model_module": "@jupyter-widgets/base",
          "model_name": "LayoutModel",
          "model_module_version": "1.2.0",
          "state": {
            "_model_module": "@jupyter-widgets/base",
            "_model_module_version": "1.2.0",
            "_model_name": "LayoutModel",
            "_view_count": null,
            "_view_module": "@jupyter-widgets/base",
            "_view_module_version": "1.2.0",
            "_view_name": "LayoutView",
            "align_content": null,
            "align_items": null,
            "align_self": null,
            "border": null,
            "bottom": null,
            "display": null,
            "flex": null,
            "flex_flow": null,
            "grid_area": null,
            "grid_auto_columns": null,
            "grid_auto_flow": null,
            "grid_auto_rows": null,
            "grid_column": null,
            "grid_gap": null,
            "grid_row": null,
            "grid_template_areas": null,
            "grid_template_columns": null,
            "grid_template_rows": null,
            "height": null,
            "justify_content": null,
            "justify_items": null,
            "left": null,
            "margin": null,
            "max_height": null,
            "max_width": null,
            "min_height": null,
            "min_width": null,
            "object_fit": null,
            "object_position": null,
            "order": null,
            "overflow": null,
            "overflow_x": null,
            "overflow_y": null,
            "padding": null,
            "right": null,
            "top": null,
            "visibility": null,
            "width": null
          }
        },
        "13f2c061c5af4d65b4b588dee5a3b4dd": {
          "model_module": "@jupyter-widgets/controls",
          "model_name": "DescriptionStyleModel",
          "model_module_version": "1.5.0",
          "state": {
            "_model_module": "@jupyter-widgets/controls",
            "_model_module_version": "1.5.0",
            "_model_name": "DescriptionStyleModel",
            "_view_count": null,
            "_view_module": "@jupyter-widgets/base",
            "_view_module_version": "1.2.0",
            "_view_name": "StyleView",
            "description_width": ""
          }
        },
        "20546ac470ed45f99f212e545762bdb2": {
          "model_module": "@jupyter-widgets/base",
          "model_name": "LayoutModel",
          "model_module_version": "1.2.0",
          "state": {
            "_model_module": "@jupyter-widgets/base",
            "_model_module_version": "1.2.0",
            "_model_name": "LayoutModel",
            "_view_count": null,
            "_view_module": "@jupyter-widgets/base",
            "_view_module_version": "1.2.0",
            "_view_name": "LayoutView",
            "align_content": null,
            "align_items": null,
            "align_self": null,
            "border": null,
            "bottom": null,
            "display": null,
            "flex": null,
            "flex_flow": null,
            "grid_area": null,
            "grid_auto_columns": null,
            "grid_auto_flow": null,
            "grid_auto_rows": null,
            "grid_column": null,
            "grid_gap": null,
            "grid_row": null,
            "grid_template_areas": null,
            "grid_template_columns": null,
            "grid_template_rows": null,
            "height": null,
            "justify_content": null,
            "justify_items": null,
            "left": null,
            "margin": null,
            "max_height": null,
            "max_width": null,
            "min_height": null,
            "min_width": null,
            "object_fit": null,
            "object_position": null,
            "order": null,
            "overflow": null,
            "overflow_x": null,
            "overflow_y": null,
            "padding": null,
            "right": null,
            "top": null,
            "visibility": null,
            "width": null
          }
        },
        "4fabe02a6ea4455db0eba13e38614737": {
          "model_module": "@jupyter-widgets/controls",
          "model_name": "ProgressStyleModel",
          "model_module_version": "1.5.0",
          "state": {
            "_model_module": "@jupyter-widgets/controls",
            "_model_module_version": "1.5.0",
            "_model_name": "ProgressStyleModel",
            "_view_count": null,
            "_view_module": "@jupyter-widgets/base",
            "_view_module_version": "1.2.0",
            "_view_name": "StyleView",
            "bar_color": null,
            "description_width": ""
          }
        },
        "776edc8447664a8a997425381706e3f8": {
          "model_module": "@jupyter-widgets/base",
          "model_name": "LayoutModel",
          "model_module_version": "1.2.0",
          "state": {
            "_model_module": "@jupyter-widgets/base",
            "_model_module_version": "1.2.0",
            "_model_name": "LayoutModel",
            "_view_count": null,
            "_view_module": "@jupyter-widgets/base",
            "_view_module_version": "1.2.0",
            "_view_name": "LayoutView",
            "align_content": null,
            "align_items": null,
            "align_self": null,
            "border": null,
            "bottom": null,
            "display": null,
            "flex": null,
            "flex_flow": null,
            "grid_area": null,
            "grid_auto_columns": null,
            "grid_auto_flow": null,
            "grid_auto_rows": null,
            "grid_column": null,
            "grid_gap": null,
            "grid_row": null,
            "grid_template_areas": null,
            "grid_template_columns": null,
            "grid_template_rows": null,
            "height": null,
            "justify_content": null,
            "justify_items": null,
            "left": null,
            "margin": null,
            "max_height": null,
            "max_width": null,
            "min_height": null,
            "min_width": null,
            "object_fit": null,
            "object_position": null,
            "order": null,
            "overflow": null,
            "overflow_x": null,
            "overflow_y": null,
            "padding": null,
            "right": null,
            "top": null,
            "visibility": null,
            "width": null
          }
        },
        "70eece4943624895aec0fbbbf52953ee": {
          "model_module": "@jupyter-widgets/controls",
          "model_name": "DescriptionStyleModel",
          "model_module_version": "1.5.0",
          "state": {
            "_model_module": "@jupyter-widgets/controls",
            "_model_module_version": "1.5.0",
            "_model_name": "DescriptionStyleModel",
            "_view_count": null,
            "_view_module": "@jupyter-widgets/base",
            "_view_module_version": "1.2.0",
            "_view_name": "StyleView",
            "description_width": ""
          }
        },
        "23329d8cef9a40ecbd53e1ebe0db53ca": {
          "model_module": "@jupyter-widgets/controls",
          "model_name": "HBoxModel",
          "model_module_version": "1.5.0",
          "state": {
            "_dom_classes": [],
            "_model_module": "@jupyter-widgets/controls",
            "_model_module_version": "1.5.0",
            "_model_name": "HBoxModel",
            "_view_count": null,
            "_view_module": "@jupyter-widgets/controls",
            "_view_module_version": "1.5.0",
            "_view_name": "HBoxView",
            "box_style": "",
            "children": [
              "IPY_MODEL_5f8429ff7269431b849d51877594a9d8",
              "IPY_MODEL_3409c928cee0427da4d23d04f25501a7",
              "IPY_MODEL_f2819c88992b4abaa830a120ac31527d"
            ],
            "layout": "IPY_MODEL_9708f4efb498476480fbe285f96ac998"
          }
        },
        "5f8429ff7269431b849d51877594a9d8": {
          "model_module": "@jupyter-widgets/controls",
          "model_name": "HTMLModel",
          "model_module_version": "1.5.0",
          "state": {
            "_dom_classes": [],
            "_model_module": "@jupyter-widgets/controls",
            "_model_module_version": "1.5.0",
            "_model_name": "HTMLModel",
            "_view_count": null,
            "_view_module": "@jupyter-widgets/controls",
            "_view_module_version": "1.5.0",
            "_view_name": "HTMLView",
            "description": "",
            "description_tooltip": null,
            "layout": "IPY_MODEL_c640b0fe19044adaa641b03f94145913",
            "placeholder": "​",
            "style": "IPY_MODEL_f47d3cb064a349918d31924ad75dcfbd",
            "value": "Downloading (…)/main/tokenizer.json: 100%"
          }
        },
        "3409c928cee0427da4d23d04f25501a7": {
          "model_module": "@jupyter-widgets/controls",
          "model_name": "FloatProgressModel",
          "model_module_version": "1.5.0",
          "state": {
            "_dom_classes": [],
            "_model_module": "@jupyter-widgets/controls",
            "_model_module_version": "1.5.0",
            "_model_name": "FloatProgressModel",
            "_view_count": null,
            "_view_module": "@jupyter-widgets/controls",
            "_view_module_version": "1.5.0",
            "_view_name": "ProgressView",
            "bar_style": "success",
            "description": "",
            "description_tooltip": null,
            "layout": "IPY_MODEL_79ab0ae562c04773b37e0e2d264115d6",
            "max": 466062,
            "min": 0,
            "orientation": "horizontal",
            "style": "IPY_MODEL_280db437f19f46caa831147f8236d0bc",
            "value": 466062
          }
        },
        "f2819c88992b4abaa830a120ac31527d": {
          "model_module": "@jupyter-widgets/controls",
          "model_name": "HTMLModel",
          "model_module_version": "1.5.0",
          "state": {
            "_dom_classes": [],
            "_model_module": "@jupyter-widgets/controls",
            "_model_module_version": "1.5.0",
            "_model_name": "HTMLModel",
            "_view_count": null,
            "_view_module": "@jupyter-widgets/controls",
            "_view_module_version": "1.5.0",
            "_view_name": "HTMLView",
            "description": "",
            "description_tooltip": null,
            "layout": "IPY_MODEL_18a4305c09664a6c8cf1844aabf4c7b8",
            "placeholder": "​",
            "style": "IPY_MODEL_22dd1fff5bf4424dab6f334b58b4648e",
            "value": " 466k/466k [00:00&lt;00:00, 21.4MB/s]"
          }
        },
        "9708f4efb498476480fbe285f96ac998": {
          "model_module": "@jupyter-widgets/base",
          "model_name": "LayoutModel",
          "model_module_version": "1.2.0",
          "state": {
            "_model_module": "@jupyter-widgets/base",
            "_model_module_version": "1.2.0",
            "_model_name": "LayoutModel",
            "_view_count": null,
            "_view_module": "@jupyter-widgets/base",
            "_view_module_version": "1.2.0",
            "_view_name": "LayoutView",
            "align_content": null,
            "align_items": null,
            "align_self": null,
            "border": null,
            "bottom": null,
            "display": null,
            "flex": null,
            "flex_flow": null,
            "grid_area": null,
            "grid_auto_columns": null,
            "grid_auto_flow": null,
            "grid_auto_rows": null,
            "grid_column": null,
            "grid_gap": null,
            "grid_row": null,
            "grid_template_areas": null,
            "grid_template_columns": null,
            "grid_template_rows": null,
            "height": null,
            "justify_content": null,
            "justify_items": null,
            "left": null,
            "margin": null,
            "max_height": null,
            "max_width": null,
            "min_height": null,
            "min_width": null,
            "object_fit": null,
            "object_position": null,
            "order": null,
            "overflow": null,
            "overflow_x": null,
            "overflow_y": null,
            "padding": null,
            "right": null,
            "top": null,
            "visibility": null,
            "width": null
          }
        },
        "c640b0fe19044adaa641b03f94145913": {
          "model_module": "@jupyter-widgets/base",
          "model_name": "LayoutModel",
          "model_module_version": "1.2.0",
          "state": {
            "_model_module": "@jupyter-widgets/base",
            "_model_module_version": "1.2.0",
            "_model_name": "LayoutModel",
            "_view_count": null,
            "_view_module": "@jupyter-widgets/base",
            "_view_module_version": "1.2.0",
            "_view_name": "LayoutView",
            "align_content": null,
            "align_items": null,
            "align_self": null,
            "border": null,
            "bottom": null,
            "display": null,
            "flex": null,
            "flex_flow": null,
            "grid_area": null,
            "grid_auto_columns": null,
            "grid_auto_flow": null,
            "grid_auto_rows": null,
            "grid_column": null,
            "grid_gap": null,
            "grid_row": null,
            "grid_template_areas": null,
            "grid_template_columns": null,
            "grid_template_rows": null,
            "height": null,
            "justify_content": null,
            "justify_items": null,
            "left": null,
            "margin": null,
            "max_height": null,
            "max_width": null,
            "min_height": null,
            "min_width": null,
            "object_fit": null,
            "object_position": null,
            "order": null,
            "overflow": null,
            "overflow_x": null,
            "overflow_y": null,
            "padding": null,
            "right": null,
            "top": null,
            "visibility": null,
            "width": null
          }
        },
        "f47d3cb064a349918d31924ad75dcfbd": {
          "model_module": "@jupyter-widgets/controls",
          "model_name": "DescriptionStyleModel",
          "model_module_version": "1.5.0",
          "state": {
            "_model_module": "@jupyter-widgets/controls",
            "_model_module_version": "1.5.0",
            "_model_name": "DescriptionStyleModel",
            "_view_count": null,
            "_view_module": "@jupyter-widgets/base",
            "_view_module_version": "1.2.0",
            "_view_name": "StyleView",
            "description_width": ""
          }
        },
        "79ab0ae562c04773b37e0e2d264115d6": {
          "model_module": "@jupyter-widgets/base",
          "model_name": "LayoutModel",
          "model_module_version": "1.2.0",
          "state": {
            "_model_module": "@jupyter-widgets/base",
            "_model_module_version": "1.2.0",
            "_model_name": "LayoutModel",
            "_view_count": null,
            "_view_module": "@jupyter-widgets/base",
            "_view_module_version": "1.2.0",
            "_view_name": "LayoutView",
            "align_content": null,
            "align_items": null,
            "align_self": null,
            "border": null,
            "bottom": null,
            "display": null,
            "flex": null,
            "flex_flow": null,
            "grid_area": null,
            "grid_auto_columns": null,
            "grid_auto_flow": null,
            "grid_auto_rows": null,
            "grid_column": null,
            "grid_gap": null,
            "grid_row": null,
            "grid_template_areas": null,
            "grid_template_columns": null,
            "grid_template_rows": null,
            "height": null,
            "justify_content": null,
            "justify_items": null,
            "left": null,
            "margin": null,
            "max_height": null,
            "max_width": null,
            "min_height": null,
            "min_width": null,
            "object_fit": null,
            "object_position": null,
            "order": null,
            "overflow": null,
            "overflow_x": null,
            "overflow_y": null,
            "padding": null,
            "right": null,
            "top": null,
            "visibility": null,
            "width": null
          }
        },
        "280db437f19f46caa831147f8236d0bc": {
          "model_module": "@jupyter-widgets/controls",
          "model_name": "ProgressStyleModel",
          "model_module_version": "1.5.0",
          "state": {
            "_model_module": "@jupyter-widgets/controls",
            "_model_module_version": "1.5.0",
            "_model_name": "ProgressStyleModel",
            "_view_count": null,
            "_view_module": "@jupyter-widgets/base",
            "_view_module_version": "1.2.0",
            "_view_name": "StyleView",
            "bar_color": null,
            "description_width": ""
          }
        },
        "18a4305c09664a6c8cf1844aabf4c7b8": {
          "model_module": "@jupyter-widgets/base",
          "model_name": "LayoutModel",
          "model_module_version": "1.2.0",
          "state": {
            "_model_module": "@jupyter-widgets/base",
            "_model_module_version": "1.2.0",
            "_model_name": "LayoutModel",
            "_view_count": null,
            "_view_module": "@jupyter-widgets/base",
            "_view_module_version": "1.2.0",
            "_view_name": "LayoutView",
            "align_content": null,
            "align_items": null,
            "align_self": null,
            "border": null,
            "bottom": null,
            "display": null,
            "flex": null,
            "flex_flow": null,
            "grid_area": null,
            "grid_auto_columns": null,
            "grid_auto_flow": null,
            "grid_auto_rows": null,
            "grid_column": null,
            "grid_gap": null,
            "grid_row": null,
            "grid_template_areas": null,
            "grid_template_columns": null,
            "grid_template_rows": null,
            "height": null,
            "justify_content": null,
            "justify_items": null,
            "left": null,
            "margin": null,
            "max_height": null,
            "max_width": null,
            "min_height": null,
            "min_width": null,
            "object_fit": null,
            "object_position": null,
            "order": null,
            "overflow": null,
            "overflow_x": null,
            "overflow_y": null,
            "padding": null,
            "right": null,
            "top": null,
            "visibility": null,
            "width": null
          }
        },
        "22dd1fff5bf4424dab6f334b58b4648e": {
          "model_module": "@jupyter-widgets/controls",
          "model_name": "DescriptionStyleModel",
          "model_module_version": "1.5.0",
          "state": {
            "_model_module": "@jupyter-widgets/controls",
            "_model_module_version": "1.5.0",
            "_model_name": "DescriptionStyleModel",
            "_view_count": null,
            "_view_module": "@jupyter-widgets/base",
            "_view_module_version": "1.2.0",
            "_view_name": "StyleView",
            "description_width": ""
          }
        }
      }
    },
    "colab": {
      "provenance": []
    },
    "accelerator": "GPU",
    "gpuClass": "standard"
  },
  "nbformat": 4,
  "nbformat_minor": 5
}