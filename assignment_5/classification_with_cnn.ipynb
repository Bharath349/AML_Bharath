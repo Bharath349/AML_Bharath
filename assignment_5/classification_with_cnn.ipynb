{
  "metadata": {
    "kernelspec": {
      "name": "python3",
      "display_name": "Python 3",
      "language": "python"
    },
    "language_info": {
      "name": "python",
      "version": "3.7.12",
      "mimetype": "text/x-python",
      "codemirror_mode": {
        "name": "ipython",
        "version": 3
      },
      "pygments_lexer": "ipython3",
      "nbconvert_exporter": "python",
      "file_extension": ".py"
    },
    "colab": {
      "provenance": []
    },
    "accelerator": "GPU",
    "gpuClass": "standard"
  },
  "nbformat_minor": 0,
  "nbformat": 4,
  "cells": [
    {
      "cell_type": "markdown",
      "source": [
        "#### Importing the required packages"
      ],
      "metadata": {
        "id": "PmkPdw3gn60c"
      }
    },
    {
      "cell_type": "code",
      "source": [
        "import os, sys, random, time, copy\n",
        "import torch, warnings\n",
        "\n",
        "import numpy as np\n",
        "import matplotlib.pyplot as plt\n",
        "import torch.optim as optim\n",
        "import torch.nn as nn\n",
        "\n",
        "from torch.utils.data import DataLoader, Dataset\n",
        "from torchvision.models import resnet18, ResNet18_Weights\n",
        "from torchvision import transforms\n",
        "from sklearn.metrics import classification_report, accuracy_score\n",
        "from sklearn.metrics import roc_auc_score, f1_score\n",
        "from sklearn.model_selection import train_test_split\n",
        "from PIL import Image\n",
        "\n",
        "warnings.filterwarnings(\"ignore\")"
      ],
      "metadata": {
        "execution": {
          "iopub.status.busy": "2023-04-24T14:38:43.509379Z",
          "iopub.execute_input": "2023-04-24T14:38:43.510161Z",
          "iopub.status.idle": "2023-04-24T14:38:43.517939Z",
          "shell.execute_reply.started": "2023-04-24T14:38:43.510106Z",
          "shell.execute_reply": "2023-04-24T14:38:43.516613Z"
        },
        "trusted": true,
        "id": "pRNQyLg5n60c"
      },
      "execution_count": 1,
      "outputs": []
    },
    {
      "cell_type": "code",
      "source": [
        "from google.colab import drive\n",
        "drive.mount('/content/drive')"
      ],
      "metadata": {
        "colab": {
          "base_uri": "https://localhost:8080/"
        },
        "id": "gFnSsH7koGsG",
        "outputId": "edda4f88-186a-4aff-b51a-400d9a75753a"
      },
      "execution_count": 2,
      "outputs": [
        {
          "output_type": "stream",
          "name": "stdout",
          "text": [
            "Drive already mounted at /content/drive; to attempt to forcibly remount, call drive.mount(\"/content/drive\", force_remount=True).\n"
          ]
        }
      ]
    },
    {
      "cell_type": "markdown",
      "source": [
        "#### Setting the data directories"
      ],
      "metadata": {
        "id": "ifgCHGGvn60d"
      }
    },
    {
      "cell_type": "code",
      "source": [
        "data_path = \"/content/drive/MyDrive/AML_assignment/data/data_1\""
      ],
      "metadata": {
        "execution": {
          "iopub.status.busy": "2023-04-24T14:38:43.520048Z",
          "iopub.execute_input": "2023-04-24T14:38:43.521229Z",
          "iopub.status.idle": "2023-04-24T14:38:43.533460Z",
          "shell.execute_reply.started": "2023-04-24T14:38:43.521191Z",
          "shell.execute_reply": "2023-04-24T14:38:43.532327Z"
        },
        "trusted": true,
        "id": "d2qYsteLn60d"
      },
      "execution_count": 3,
      "outputs": []
    },
    {
      "cell_type": "markdown",
      "source": [
        "##### Checking if Cuda is available"
      ],
      "metadata": {
        "id": "yBP-Du9in60e"
      }
    },
    {
      "cell_type": "code",
      "source": [
        "use_gpu = torch.cuda.is_available()\n",
        "print('Using GPU: ', use_gpu)\n",
        "\n",
        "if use_gpu == True:\n",
        "\tdevice = torch.device(\"cuda\")\n",
        "else:\n",
        "\tdevice = torch.device(\"cpu\")"
      ],
      "metadata": {
        "execution": {
          "iopub.status.busy": "2023-04-24T14:38:43.536151Z",
          "iopub.execute_input": "2023-04-24T14:38:43.536656Z",
          "iopub.status.idle": "2023-04-24T14:38:43.543911Z",
          "shell.execute_reply.started": "2023-04-24T14:38:43.536619Z",
          "shell.execute_reply": "2023-04-24T14:38:43.542758Z"
        },
        "trusted": true,
        "colab": {
          "base_uri": "https://localhost:8080/"
        },
        "id": "-HHIUtnfn60e",
        "outputId": "d6a16a69-996e-46f9-d412-baa279153cf8"
      },
      "execution_count": 4,
      "outputs": [
        {
          "output_type": "stream",
          "name": "stdout",
          "text": [
            "Using GPU:  True\n"
          ]
        }
      ]
    },
    {
      "cell_type": "code",
      "source": [
        "freq_print = 30"
      ],
      "metadata": {
        "execution": {
          "iopub.status.busy": "2023-04-24T14:38:43.545698Z",
          "iopub.execute_input": "2023-04-24T14:38:43.546418Z",
          "iopub.status.idle": "2023-04-24T14:38:43.552672Z",
          "shell.execute_reply.started": "2023-04-24T14:38:43.546371Z",
          "shell.execute_reply": "2023-04-24T14:38:43.551768Z"
        },
        "trusted": true,
        "id": "QKpQW5Twn60f"
      },
      "execution_count": 5,
      "outputs": []
    },
    {
      "cell_type": "code",
      "source": [
        "def load_paths_from_folder(data_path):\n",
        "    label_names = os.listdir(data_path)\n",
        "    labels = list(range(len(label_names)))\n",
        "    label_dict = {}\n",
        "    for label in labels:\n",
        "        label_dict[label] = label_names[label]\n",
        "\n",
        "    file_paths = []\n",
        "    for label in labels:\n",
        "        for file in os.listdir(os.path.join(data_path, label_dict[label])):\n",
        "            file_paths.append((os.path.join(data_path, label_dict[label], file), label))\n",
        "            \n",
        "    random.shuffle(file_paths)\n",
        "\n",
        "    train_num = int(0.6*len(file_paths))\n",
        "    val_num = int(0.25*len(file_paths))\n",
        "\n",
        "    train_list, val_list, test_list = file_paths[:train_num], file_paths[train_num:train_num+val_num], file_paths[train_num+val_num:]\n",
        "\n",
        "    return train_list, val_list, test_list, label_dict\n",
        "\n",
        "train_list, val_list, test_list, label_dict = load_paths_from_folder(data_path)\n",
        "\n",
        "len(train_list), len(val_list), len(test_list)"
      ],
      "metadata": {
        "execution": {
          "iopub.status.busy": "2023-04-24T14:38:43.555725Z",
          "iopub.execute_input": "2023-04-24T14:38:43.556091Z",
          "iopub.status.idle": "2023-04-24T14:38:43.571937Z",
          "shell.execute_reply.started": "2023-04-24T14:38:43.556055Z",
          "shell.execute_reply": "2023-04-24T14:38:43.570751Z"
        },
        "trusted": true,
        "colab": {
          "base_uri": "https://localhost:8080/"
        },
        "id": "W7aOv_Yin60g",
        "outputId": "fc54d809-ef8b-4f6d-8fb9-d14f946dae32"
      },
      "execution_count": 6,
      "outputs": [
        {
          "output_type": "execute_result",
          "data": {
            "text/plain": [
              "(480, 200, 120)"
            ]
          },
          "metadata": {},
          "execution_count": 6
        }
      ]
    },
    {
      "cell_type": "code",
      "source": [
        "mean, std = [0.485, 0.456, 0.406], [0.229, 0.224, 0.225]"
      ],
      "metadata": {
        "execution": {
          "iopub.status.busy": "2023-04-24T14:38:43.573659Z",
          "iopub.execute_input": "2023-04-24T14:38:43.574019Z",
          "iopub.status.idle": "2023-04-24T14:38:43.578844Z",
          "shell.execute_reply.started": "2023-04-24T14:38:43.573981Z",
          "shell.execute_reply": "2023-04-24T14:38:43.577810Z"
        },
        "trusted": true,
        "id": "rivR64j1n60h"
      },
      "execution_count": 7,
      "outputs": []
    },
    {
      "cell_type": "code",
      "source": [
        "data_transforms = {\n",
        "\t'train': transforms.Compose([\n",
        "\t\ttransforms.RandomHorizontalFlip(),  # simple data augmentation\n",
        "\t\ttransforms.RandomVerticalFlip(),\t# simple data augmentation\n",
        "\t\ttransforms.ColorJitter(brightness=0.3, contrast=0.3, saturation=0.3, hue=0.1),\n",
        "\t\ttransforms.ToTensor(),\n",
        "\t\ttransforms.Normalize(mean, std)]),\n",
        "\n",
        "\t'val': transforms.Compose([\n",
        "\t\ttransforms.ToTensor(),\n",
        "\t\ttransforms.Normalize(mean, std)\n",
        "\t]),\n",
        "}"
      ],
      "metadata": {
        "execution": {
          "iopub.status.busy": "2023-04-24T14:38:43.580652Z",
          "iopub.execute_input": "2023-04-24T14:38:43.581439Z",
          "iopub.status.idle": "2023-04-24T14:38:43.590360Z",
          "shell.execute_reply.started": "2023-04-24T14:38:43.581393Z",
          "shell.execute_reply": "2023-04-24T14:38:43.589286Z"
        },
        "trusted": true,
        "id": "UP9cial2n60i"
      },
      "execution_count": 8,
      "outputs": []
    },
    {
      "cell_type": "markdown",
      "source": [
        "##### Defining a dataloader class extending the Dataset Class"
      ],
      "metadata": {
        "id": "kashqNiRn60i"
      }
    },
    {
      "cell_type": "code",
      "source": [
        "class dataloader(Dataset):\n",
        "\t\"\"\"\n",
        "\tDataset class to read img file from filepath \n",
        "\tand return Pillow Image object with its label_id\n",
        "\t\"\"\"\n",
        "\tdef __init__(self, list1, transform=None):\n",
        "\t\tself.list1 = list1\n",
        "\t\tself.transform = transform\n",
        "\t\n",
        "\tdef __getitem__(self, index):\n",
        "\t\tlist2 = self.list1[index]\n",
        "\t\tlab = int(list2[1])\n",
        "\t\tpng = Image.open(list2[0]).convert('RGB') # ori: RGB, do not convert to numpy, keep it as PIL image to apply transform\n",
        "\t\tpng = png.resize((224,224))\n",
        "\n",
        "\t\tif self.transform:\n",
        "\t\t\tpng = self.transform(png)\n",
        "\n",
        "\t\treturn png, lab\n",
        "\n",
        "\tdef __len__(self):\n",
        "\t\treturn len(self.list1)"
      ],
      "metadata": {
        "execution": {
          "iopub.status.busy": "2023-04-24T14:38:43.593712Z",
          "iopub.execute_input": "2023-04-24T14:38:43.594015Z",
          "iopub.status.idle": "2023-04-24T14:38:43.605766Z",
          "shell.execute_reply.started": "2023-04-24T14:38:43.593990Z",
          "shell.execute_reply": "2023-04-24T14:38:43.604726Z"
        },
        "trusted": true,
        "id": "9mE5fnG2n60i"
      },
      "execution_count": 9,
      "outputs": []
    },
    {
      "cell_type": "code",
      "source": [
        "batch_size = 16\n",
        "\n",
        "train_set = dataloader(train_list, transform = data_transforms['train'])\n",
        "train_loader = DataLoader(train_set, batch_size=batch_size, shuffle=True, num_workers=8, pin_memory=False)\n",
        "\n",
        "val_set = dataloader(val_list, transform = data_transforms['val'])\n",
        "val_loader = DataLoader(val_set, batch_size=batch_size, shuffle=True, num_workers=8, pin_memory=False)"
      ],
      "metadata": {
        "execution": {
          "iopub.status.busy": "2023-04-24T14:38:43.607266Z",
          "iopub.execute_input": "2023-04-24T14:38:43.607783Z",
          "iopub.status.idle": "2023-04-24T14:38:43.617818Z",
          "shell.execute_reply.started": "2023-04-24T14:38:43.607747Z",
          "shell.execute_reply": "2023-04-24T14:38:43.616798Z"
        },
        "trusted": true,
        "id": "W1vD6D_Hn60j"
      },
      "execution_count": 10,
      "outputs": []
    },
    {
      "cell_type": "markdown",
      "source": [
        "##### Defining a function to perform validation on the model"
      ],
      "metadata": {
        "id": "z-xsMucpn60j"
      }
    },
    {
      "cell_type": "code",
      "source": [
        "# Function to run evaluation for a model on a given dataloader object\n",
        "def run_validation(model, criterion, val_loader):\n",
        "\tmodel.eval()\n",
        "\tpred_labels = []\n",
        "\torig_labels = []\n",
        "\n",
        "\tntotal = 0\n",
        "\trunning_loss = 0.0\n",
        "\twith torch.no_grad():\n",
        "\t\tfor ix, batch in enumerate(val_loader):\n",
        "\t\t\tinputs, targets = batch\n",
        "\n",
        "\t\t\tinputs = inputs.to(torch.float).to(device)\n",
        "\t\t\ttargets = targets.to(torch.long).to(device)\n",
        "\t\t\toutput = model(inputs)\n",
        "\t\t\tif type(output) == tuple:\n",
        "\t\t\t\toutput,_ = output\n",
        "\t\t\t\n",
        "\t\t\t_, preds = torch.max(output.data, 1)\n",
        "\n",
        "\t\t\tloss = criterion(output, targets)\n",
        "\t\t\tntotal += output.size(0)\n",
        "\t\t\trunning_loss += loss.item() * output.size(0)\n",
        "\n",
        "\t\t\ttargets = torch.squeeze(targets).data.cpu().tolist()\n",
        "\t\t\torig_labels = orig_labels + targets\n",
        "\n",
        "\t\t\tpreds = torch.squeeze(preds).data.cpu().tolist()\n",
        "\t\t\tpred_labels = pred_labels + preds\n",
        "\t\n",
        "\torig_labels = np.array(orig_labels).reshape(-1,1)\n",
        "\tpred_labels = np.array(pred_labels).reshape(-1,1)\n",
        "\n",
        "\tval_loss = running_loss/ntotal\n",
        "\tval_acc = accuracy_score(orig_labels, pred_labels)\n",
        "\tval_f1 = f1_score(orig_labels, pred_labels, average='macro')\n",
        "\n",
        "\treturn val_loss, val_acc, val_f1, orig_labels, pred_labels"
      ],
      "metadata": {
        "execution": {
          "iopub.status.busy": "2023-04-24T14:38:43.669220Z",
          "iopub.execute_input": "2023-04-24T14:38:43.670083Z",
          "iopub.status.idle": "2023-04-24T14:38:43.680762Z",
          "shell.execute_reply.started": "2023-04-24T14:38:43.670040Z",
          "shell.execute_reply": "2023-04-24T14:38:43.679654Z"
        },
        "trusted": true,
        "id": "4RGZg5Gnn60j"
      },
      "execution_count": 11,
      "outputs": []
    },
    {
      "cell_type": "markdown",
      "source": [
        "##### Function to plot the train-validation loss"
      ],
      "metadata": {
        "id": "SiMwL7hDn60k"
      }
    },
    {
      "cell_type": "code",
      "source": [
        "def plot_tra_val_loss(tra_val_loss):\n",
        "\tepochs = list(range(1,len(tra_val_loss)+1))\n",
        "\ttrain_loss = [x[0] for x in tra_val_loss]\n",
        "\tval_loss = [x[1] for x in tra_val_loss]\n",
        "\tplt.plot(epochs, train_loss, label='Train Loss')\n",
        "\tplt.plot(epochs, val_loss, label='Validation Loss')\n",
        "\tplt.title('Training and Validation Loss per epoch')\n",
        "\tplt.ylabel('Loss')\n",
        "\tplt.xlabel('Epochs')\n",
        "\tplt.legend()\n",
        "\tplt.show()"
      ],
      "metadata": {
        "execution": {
          "iopub.status.busy": "2023-04-24T14:38:43.683060Z",
          "iopub.execute_input": "2023-04-24T14:38:43.683779Z",
          "iopub.status.idle": "2023-04-24T14:38:43.696248Z",
          "shell.execute_reply.started": "2023-04-24T14:38:43.683742Z",
          "shell.execute_reply": "2023-04-24T14:38:43.695197Z"
        },
        "trusted": true,
        "id": "472hPDrln60k"
      },
      "execution_count": 12,
      "outputs": []
    },
    {
      "cell_type": "markdown",
      "source": [
        "##### Function to train the model"
      ],
      "metadata": {
        "id": "O1Q7-b16n60k"
      }
    },
    {
      "cell_type": "code",
      "source": [
        "def run_training(model, criterion, num_epochs, batch_size, lr, check_after, trainer = 'sgd', train_loader = train_loader, val_loader = val_loader): \n",
        "\tbest_f1 = 0\n",
        "\tbest_epoch = 0\n",
        "\ttrain_val_loss_epoch = []\n",
        "\tstart_training = time.time()\n",
        "\n",
        "\tfor epoch in range(num_epochs):\n",
        "\n",
        "\t\t### TRAINING ###\n",
        "\t\tstart = time.time()\n",
        "\n",
        "\t\tif epoch < num_epochs//6: lr = lr\n",
        "\t\telif epoch < num_epochs//3: lr = lr/2\n",
        "\t\telif epoch < num_epochs//2: lr = lr/4\n",
        "\t\telif epoch < 3*(num_epochs//4): lr = lr/10\n",
        "\t\telse: lr = lr/20\n",
        "\n",
        "\t\tif epoch > 2:\n",
        "\t\t\tfor param in model.parameters():\n",
        "\t\t\t\tparam.requires_grad = True\n",
        "\n",
        "\n",
        "\t\tif trainer == 'adam':\n",
        "\t\t\toptimizer = optim.Adam(params=filter(lambda p: p.requires_grad, model.parameters()), lr=lr)\n",
        "\t\telif trainer == 'sgd':\n",
        "\t\t\toptimizer = optim.SGD(params=filter(lambda p: p.requires_grad, model.parameters()), lr=lr, momentum=0.9, weight_decay=1e-4)\n",
        "\t\telse:\n",
        "\t\t\traise Exception('Select optimiser (trainer) as adam or sgd')\n",
        "\t\t\n",
        "\t\tprint('Epoch {}/{}'.format(epoch + 1, num_epochs))\n",
        "\t\tprint('lr: {:.6f}'.format(lr))\n",
        "\t\tprint('-' * 50)\n",
        "\n",
        "\t\tmodel.train()\n",
        "\t\tntotal = 0\n",
        "\t\trunning_loss = 0.0\n",
        "\t\trunning_corrects = 0\n",
        "\t\tfor ix, batch in enumerate(train_loader):\n",
        "\t\t\tinputs, targets = batch\n",
        "\n",
        "\t\t\tinputs = inputs.to(torch.float).to(device)\n",
        "\t\t\ttargets = targets.to(torch.long).to(device)\n",
        "\n",
        "\t\t\toptimizer.zero_grad()\n",
        "\t\t\toutput = model(inputs)\n",
        "\t\t\tif type(output) == tuple:\n",
        "\t\t\t\toutput,_ = output\n",
        "\t\t\t\n",
        "\t\t\t_, preds = torch.max(output.data, 1)\n",
        "\t\t\tloss = criterion(output, targets)\n",
        "\t\t\tloss.backward()\n",
        "\t\t\toptimizer.step()\n",
        "\n",
        "\t\t\tntotal += output.size(0)\n",
        "\t\t\trunning_loss += loss.item() * output.size(0)\n",
        "\t\t\trunning_corrects += torch.sum(preds == targets.data)\n",
        "\n",
        "\t\t\tif (ix + 1) % freq_print == 0:\n",
        "\t\t\t\tprint('| Epoch:[{}][{}/{}]\\tTrain_Loss: {:.4f}\\tAccuracy: {:.4f}\\tTime: {:.2f} mins'.format(\n",
        "\t\t\t\t\tepoch + 1, ix + 1, len(train_loader.dataset)//batch_size, running_loss/ntotal, \n",
        "\t\t\t\t\trunning_corrects.item()/ntotal, (time.time() - start)/60.0))\n",
        "\n",
        "\t\t\tsys.stdout.flush()\n",
        "\n",
        "\t\t### VALIDATION ###\n",
        "\t\tif (epoch + 1) % check_after == 0:\n",
        "\t\t\tmodel.eval()\n",
        "\t\t\tstart = time.time()\n",
        "\t\t\tval_loss, val_acc, val_f1, orig_labels, pred_labels = run_validation(model, criterion, val_loader = val_loader)\n",
        "\t\t\ttrain_val_loss_epoch.append([running_loss/ntotal, val_loss])\n",
        "\t\t\tprint(\"Epoch: {}/{}\\tVal_Loss: {:.4f}\\tAccuracy: {:.4f}\\tF1-score: {:.4f}\\t{:.3f}mins\".format(\n",
        "\t\t\t\t\t(epoch + 1), num_epochs, val_loss, val_acc, val_f1, (time.time() - start)/60.0))\n",
        "\t\t\tstart = time.time()\n",
        "\n",
        "\t\t\t# Save model if auc best auc score is acheived (yet)\n",
        "\t\t\tif val_f1 > best_f1:\n",
        "\t\t\t\tprint('Saving model')\n",
        "\t\t\t\tbest_f1 = val_f1\n",
        "\t\t\t\tbest_epoch = epoch\n",
        "\t\t\t\tbest_model = copy.deepcopy(model)\n",
        "\t\t\t\tstate = {\n",
        "\t\t\t\t\t'model': best_model,\n",
        "\t\t\t\t\t'auc': best_f1,\n",
        "\t\t\t\t\t'lr': lr,\n",
        "\t\t\t\t\t'saved_epoch': epoch,\n",
        "\t\t\t\t}\n",
        "\n",
        "\t\t\t\tsave_point = os.path.join('.')\n",
        "\t\t\t\tif not os.path.isdir(os.path.join(save_point)):\n",
        "\t\t\t\t\tos.mkdir(save_point)\n",
        "\n",
        "\t\t\t\tsaved_model_name = 'resnet18'\n",
        "\t\t\t\ttorch.save(state, os.path.join(save_point, saved_model_name + '_' + str(round(best_f1,3)) + '_' + str(epoch) + '.t7'))\n",
        "\t\t\t\t\n",
        "\t\t\tprint('=======================================================================')\n",
        "\n",
        "\ttime_elapsed = time.time() - start_training\n",
        "\tprint('Training complete in {:.0f}m {:.0f}s'.format(time_elapsed // 60, time_elapsed % 60))\n",
        "\tprint('Best validation F1 score: {:4f} at epoch: {}'.format(best_f1, best_epoch))\n",
        "\n",
        "\tplot_tra_val_loss(train_val_loss_epoch)\n",
        "\treturn train_val_loss_epoch"
      ],
      "metadata": {
        "execution": {
          "iopub.status.busy": "2023-04-24T14:38:43.698497Z",
          "iopub.execute_input": "2023-04-24T14:38:43.699152Z",
          "iopub.status.idle": "2023-04-24T14:38:43.719173Z",
          "shell.execute_reply.started": "2023-04-24T14:38:43.699117Z",
          "shell.execute_reply": "2023-04-24T14:38:43.718022Z"
        },
        "trusted": true,
        "id": "sGZqqtxZn60k"
      },
      "execution_count": 13,
      "outputs": []
    },
    {
      "cell_type": "markdown",
      "source": [
        "##### Loading a pre-trained Resnet18 model, trained on ImageNet dataset"
      ],
      "metadata": {
        "id": "E5NhGr_Mn60l"
      }
    },
    {
      "cell_type": "code",
      "source": [
        "model = resnet18()\n",
        "\n",
        "# Locking all Parameters of the pre-trained model\n",
        "for param in model.parameters():\n",
        "    param.requires_grad = False\n",
        "\n",
        "# Changing last layer of model from 1000 classes to 2 classes\n",
        "num_in = model.fc.in_features\n",
        "model.fc = nn.Linear(num_in, 2)\n",
        "\n",
        "# Newly added layer has unlocked parameters\n",
        "# The rest of the parameters will be unlocked after the 3rd epoch\n",
        "model.eval()\n",
        "model.to(device)\n",
        "\n",
        "print(model)"
      ],
      "metadata": {
        "execution": {
          "iopub.status.busy": "2023-04-24T14:42:32.686766Z",
          "iopub.execute_input": "2023-04-24T14:42:32.687118Z",
          "iopub.status.idle": "2023-04-24T14:42:32.939623Z",
          "shell.execute_reply.started": "2023-04-24T14:42:32.687088Z",
          "shell.execute_reply": "2023-04-24T14:42:32.938371Z"
        },
        "trusted": true,
        "colab": {
          "base_uri": "https://localhost:8080/"
        },
        "id": "BAQOYH6Gn60m",
        "outputId": "f7b2fb04-c7a1-42ab-956a-cf72da5e7191"
      },
      "execution_count": 18,
      "outputs": [
        {
          "output_type": "stream",
          "name": "stdout",
          "text": [
            "ResNet(\n",
            "  (conv1): Conv2d(3, 64, kernel_size=(7, 7), stride=(2, 2), padding=(3, 3), bias=False)\n",
            "  (bn1): BatchNorm2d(64, eps=1e-05, momentum=0.1, affine=True, track_running_stats=True)\n",
            "  (relu): ReLU(inplace=True)\n",
            "  (maxpool): MaxPool2d(kernel_size=3, stride=2, padding=1, dilation=1, ceil_mode=False)\n",
            "  (layer1): Sequential(\n",
            "    (0): BasicBlock(\n",
            "      (conv1): Conv2d(64, 64, kernel_size=(3, 3), stride=(1, 1), padding=(1, 1), bias=False)\n",
            "      (bn1): BatchNorm2d(64, eps=1e-05, momentum=0.1, affine=True, track_running_stats=True)\n",
            "      (relu): ReLU(inplace=True)\n",
            "      (conv2): Conv2d(64, 64, kernel_size=(3, 3), stride=(1, 1), padding=(1, 1), bias=False)\n",
            "      (bn2): BatchNorm2d(64, eps=1e-05, momentum=0.1, affine=True, track_running_stats=True)\n",
            "    )\n",
            "    (1): BasicBlock(\n",
            "      (conv1): Conv2d(64, 64, kernel_size=(3, 3), stride=(1, 1), padding=(1, 1), bias=False)\n",
            "      (bn1): BatchNorm2d(64, eps=1e-05, momentum=0.1, affine=True, track_running_stats=True)\n",
            "      (relu): ReLU(inplace=True)\n",
            "      (conv2): Conv2d(64, 64, kernel_size=(3, 3), stride=(1, 1), padding=(1, 1), bias=False)\n",
            "      (bn2): BatchNorm2d(64, eps=1e-05, momentum=0.1, affine=True, track_running_stats=True)\n",
            "    )\n",
            "  )\n",
            "  (layer2): Sequential(\n",
            "    (0): BasicBlock(\n",
            "      (conv1): Conv2d(64, 128, kernel_size=(3, 3), stride=(2, 2), padding=(1, 1), bias=False)\n",
            "      (bn1): BatchNorm2d(128, eps=1e-05, momentum=0.1, affine=True, track_running_stats=True)\n",
            "      (relu): ReLU(inplace=True)\n",
            "      (conv2): Conv2d(128, 128, kernel_size=(3, 3), stride=(1, 1), padding=(1, 1), bias=False)\n",
            "      (bn2): BatchNorm2d(128, eps=1e-05, momentum=0.1, affine=True, track_running_stats=True)\n",
            "      (downsample): Sequential(\n",
            "        (0): Conv2d(64, 128, kernel_size=(1, 1), stride=(2, 2), bias=False)\n",
            "        (1): BatchNorm2d(128, eps=1e-05, momentum=0.1, affine=True, track_running_stats=True)\n",
            "      )\n",
            "    )\n",
            "    (1): BasicBlock(\n",
            "      (conv1): Conv2d(128, 128, kernel_size=(3, 3), stride=(1, 1), padding=(1, 1), bias=False)\n",
            "      (bn1): BatchNorm2d(128, eps=1e-05, momentum=0.1, affine=True, track_running_stats=True)\n",
            "      (relu): ReLU(inplace=True)\n",
            "      (conv2): Conv2d(128, 128, kernel_size=(3, 3), stride=(1, 1), padding=(1, 1), bias=False)\n",
            "      (bn2): BatchNorm2d(128, eps=1e-05, momentum=0.1, affine=True, track_running_stats=True)\n",
            "    )\n",
            "  )\n",
            "  (layer3): Sequential(\n",
            "    (0): BasicBlock(\n",
            "      (conv1): Conv2d(128, 256, kernel_size=(3, 3), stride=(2, 2), padding=(1, 1), bias=False)\n",
            "      (bn1): BatchNorm2d(256, eps=1e-05, momentum=0.1, affine=True, track_running_stats=True)\n",
            "      (relu): ReLU(inplace=True)\n",
            "      (conv2): Conv2d(256, 256, kernel_size=(3, 3), stride=(1, 1), padding=(1, 1), bias=False)\n",
            "      (bn2): BatchNorm2d(256, eps=1e-05, momentum=0.1, affine=True, track_running_stats=True)\n",
            "      (downsample): Sequential(\n",
            "        (0): Conv2d(128, 256, kernel_size=(1, 1), stride=(2, 2), bias=False)\n",
            "        (1): BatchNorm2d(256, eps=1e-05, momentum=0.1, affine=True, track_running_stats=True)\n",
            "      )\n",
            "    )\n",
            "    (1): BasicBlock(\n",
            "      (conv1): Conv2d(256, 256, kernel_size=(3, 3), stride=(1, 1), padding=(1, 1), bias=False)\n",
            "      (bn1): BatchNorm2d(256, eps=1e-05, momentum=0.1, affine=True, track_running_stats=True)\n",
            "      (relu): ReLU(inplace=True)\n",
            "      (conv2): Conv2d(256, 256, kernel_size=(3, 3), stride=(1, 1), padding=(1, 1), bias=False)\n",
            "      (bn2): BatchNorm2d(256, eps=1e-05, momentum=0.1, affine=True, track_running_stats=True)\n",
            "    )\n",
            "  )\n",
            "  (layer4): Sequential(\n",
            "    (0): BasicBlock(\n",
            "      (conv1): Conv2d(256, 512, kernel_size=(3, 3), stride=(2, 2), padding=(1, 1), bias=False)\n",
            "      (bn1): BatchNorm2d(512, eps=1e-05, momentum=0.1, affine=True, track_running_stats=True)\n",
            "      (relu): ReLU(inplace=True)\n",
            "      (conv2): Conv2d(512, 512, kernel_size=(3, 3), stride=(1, 1), padding=(1, 1), bias=False)\n",
            "      (bn2): BatchNorm2d(512, eps=1e-05, momentum=0.1, affine=True, track_running_stats=True)\n",
            "      (downsample): Sequential(\n",
            "        (0): Conv2d(256, 512, kernel_size=(1, 1), stride=(2, 2), bias=False)\n",
            "        (1): BatchNorm2d(512, eps=1e-05, momentum=0.1, affine=True, track_running_stats=True)\n",
            "      )\n",
            "    )\n",
            "    (1): BasicBlock(\n",
            "      (conv1): Conv2d(512, 512, kernel_size=(3, 3), stride=(1, 1), padding=(1, 1), bias=False)\n",
            "      (bn1): BatchNorm2d(512, eps=1e-05, momentum=0.1, affine=True, track_running_stats=True)\n",
            "      (relu): ReLU(inplace=True)\n",
            "      (conv2): Conv2d(512, 512, kernel_size=(3, 3), stride=(1, 1), padding=(1, 1), bias=False)\n",
            "      (bn2): BatchNorm2d(512, eps=1e-05, momentum=0.1, affine=True, track_running_stats=True)\n",
            "    )\n",
            "  )\n",
            "  (avgpool): AdaptiveAvgPool2d(output_size=(1, 1))\n",
            "  (fc): Linear(in_features=512, out_features=2, bias=True)\n",
            ")\n"
          ]
        }
      ]
    },
    {
      "cell_type": "markdown",
      "source": [
        "##### Training the model"
      ],
      "metadata": {
        "id": "OQyo1-pgn60m"
      }
    },
    {
      "cell_type": "code",
      "source": [
        "print('Start training ... ')\n",
        "criterion = nn.CrossEntropyLoss().to(device)\n",
        "train_val_loss = run_training(model=model, criterion=criterion, num_epochs=35, batch_size=batch_size, lr=1e-4, \n",
        "             check_after=1, train_loader=train_loader, val_loader=val_loader)"
      ],
      "metadata": {
        "execution": {
          "iopub.status.busy": "2023-04-24T14:38:43.721555Z",
          "iopub.execute_input": "2023-04-24T14:38:43.722371Z",
          "iopub.status.idle": "2023-04-24T14:42:32.683321Z",
          "shell.execute_reply.started": "2023-04-24T14:38:43.722291Z",
          "shell.execute_reply": "2023-04-24T14:42:32.682266Z"
        },
        "trusted": true,
        "id": "0ab4yUfQn60n",
        "outputId": "ba81eb47-3e91-4171-d050-9152cea648d6",
        "colab": {
          "base_uri": "https://localhost:8080/",
          "height": 1000
        }
      },
      "execution_count": 19,
      "outputs": [
        {
          "output_type": "stream",
          "name": "stdout",
          "text": [
            "Start training ... \n",
            "Epoch 1/35\n",
            "lr: 0.000100\n",
            "--------------------------------------------------\n",
            "| Epoch:[1][30/30]\tTrain_Loss: 0.6893\tAccuracy: 0.5062\tTime: 0.76 mins\n",
            "Epoch: 1/35\tVal_Loss: 0.6953\tAccuracy: 0.5100\tF1-score: 0.5082\t0.350mins\n",
            "Saving model\n",
            "=======================================================================\n",
            "Epoch 2/35\n",
            "lr: 0.000100\n",
            "--------------------------------------------------\n",
            "| Epoch:[2][30/30]\tTrain_Loss: 0.6980\tAccuracy: 0.5250\tTime: 0.08 mins\n",
            "Epoch: 2/35\tVal_Loss: 0.6897\tAccuracy: 0.5250\tF1-score: 0.5082\t0.036mins\n",
            "=======================================================================\n",
            "Epoch 3/35\n",
            "lr: 0.000100\n",
            "--------------------------------------------------\n",
            "| Epoch:[3][30/30]\tTrain_Loss: 0.6937\tAccuracy: 0.5292\tTime: 0.08 mins\n",
            "Epoch: 3/35\tVal_Loss: 0.6903\tAccuracy: 0.5550\tF1-score: 0.5549\t0.040mins\n",
            "Saving model\n",
            "=======================================================================\n",
            "Epoch 4/35\n",
            "lr: 0.000100\n",
            "--------------------------------------------------\n",
            "| Epoch:[4][30/30]\tTrain_Loss: 0.6907\tAccuracy: 0.5312\tTime: 0.08 mins\n",
            "Epoch: 4/35\tVal_Loss: 0.6756\tAccuracy: 0.5700\tF1-score: 0.5209\t0.025mins\n",
            "=======================================================================\n",
            "Epoch 5/35\n",
            "lr: 0.000100\n",
            "--------------------------------------------------\n",
            "| Epoch:[5][30/30]\tTrain_Loss: 0.6806\tAccuracy: 0.5396\tTime: 0.09 mins\n",
            "Epoch: 5/35\tVal_Loss: 0.6582\tAccuracy: 0.5950\tF1-score: 0.5790\t0.034mins\n",
            "Saving model\n",
            "=======================================================================\n",
            "Epoch 6/35\n",
            "lr: 0.000050\n",
            "--------------------------------------------------\n",
            "| Epoch:[6][30/30]\tTrain_Loss: 0.6676\tAccuracy: 0.5854\tTime: 0.08 mins\n",
            "Epoch: 6/35\tVal_Loss: 0.6502\tAccuracy: 0.6400\tF1-score: 0.6356\t0.024mins\n",
            "Saving model\n",
            "=======================================================================\n",
            "Epoch 7/35\n",
            "lr: 0.000025\n",
            "--------------------------------------------------\n",
            "| Epoch:[7][30/30]\tTrain_Loss: 0.6627\tAccuracy: 0.6042\tTime: 0.10 mins\n",
            "Epoch: 7/35\tVal_Loss: 0.6463\tAccuracy: 0.6900\tF1-score: 0.6895\t0.033mins\n",
            "Saving model\n",
            "=======================================================================\n",
            "Epoch 8/35\n",
            "lr: 0.000013\n",
            "--------------------------------------------------\n",
            "| Epoch:[8][30/30]\tTrain_Loss: 0.6563\tAccuracy: 0.6083\tTime: 0.08 mins\n",
            "Epoch: 8/35\tVal_Loss: 0.6406\tAccuracy: 0.7000\tF1-score: 0.6992\t0.024mins\n",
            "Saving model\n",
            "=======================================================================\n",
            "Epoch 9/35\n",
            "lr: 0.000006\n",
            "--------------------------------------------------\n",
            "| Epoch:[9][30/30]\tTrain_Loss: 0.6502\tAccuracy: 0.6479\tTime: 0.10 mins\n",
            "Epoch: 9/35\tVal_Loss: 0.6422\tAccuracy: 0.6900\tF1-score: 0.6900\t0.031mins\n",
            "=======================================================================\n",
            "Epoch 10/35\n",
            "lr: 0.000003\n",
            "--------------------------------------------------\n",
            "| Epoch:[10][30/30]\tTrain_Loss: 0.6562\tAccuracy: 0.6396\tTime: 0.08 mins\n",
            "Epoch: 10/35\tVal_Loss: 0.6421\tAccuracy: 0.6800\tF1-score: 0.6784\t0.025mins\n",
            "=======================================================================\n",
            "Epoch 11/35\n",
            "lr: 0.000002\n",
            "--------------------------------------------------\n",
            "| Epoch:[11][30/30]\tTrain_Loss: 0.6606\tAccuracy: 0.6062\tTime: 0.09 mins\n",
            "Epoch: 11/35\tVal_Loss: 0.6422\tAccuracy: 0.6800\tF1-score: 0.6774\t0.032mins\n",
            "=======================================================================\n",
            "Epoch 12/35\n",
            "lr: 0.000000\n",
            "--------------------------------------------------\n",
            "| Epoch:[12][30/30]\tTrain_Loss: 0.6602\tAccuracy: 0.6438\tTime: 0.08 mins\n",
            "Epoch: 12/35\tVal_Loss: 0.6420\tAccuracy: 0.6800\tF1-score: 0.6792\t0.024mins\n",
            "=======================================================================\n",
            "Epoch 13/35\n",
            "lr: 0.000000\n",
            "--------------------------------------------------\n",
            "| Epoch:[13][30/30]\tTrain_Loss: 0.6552\tAccuracy: 0.6208\tTime: 0.10 mins\n",
            "Epoch: 13/35\tVal_Loss: 0.6400\tAccuracy: 0.6850\tF1-score: 0.6840\t0.033mins\n",
            "=======================================================================\n",
            "Epoch 14/35\n",
            "lr: 0.000000\n",
            "--------------------------------------------------\n",
            "| Epoch:[14][30/30]\tTrain_Loss: 0.6631\tAccuracy: 0.5979\tTime: 0.08 mins\n",
            "Epoch: 14/35\tVal_Loss: 0.6422\tAccuracy: 0.6800\tF1-score: 0.6761\t0.024mins\n",
            "=======================================================================\n",
            "Epoch 15/35\n",
            "lr: 0.000000\n",
            "--------------------------------------------------\n",
            "| Epoch:[15][30/30]\tTrain_Loss: 0.6587\tAccuracy: 0.6188\tTime: 0.09 mins\n",
            "Epoch: 15/35\tVal_Loss: 0.6413\tAccuracy: 0.6900\tF1-score: 0.6895\t0.034mins\n",
            "=======================================================================\n",
            "Epoch 16/35\n",
            "lr: 0.000000\n",
            "--------------------------------------------------\n",
            "| Epoch:[16][30/30]\tTrain_Loss: 0.6540\tAccuracy: 0.6354\tTime: 0.08 mins\n",
            "Epoch: 16/35\tVal_Loss: 0.6409\tAccuracy: 0.6800\tF1-score: 0.6761\t0.024mins\n",
            "=======================================================================\n",
            "Epoch 17/35\n",
            "lr: 0.000000\n",
            "--------------------------------------------------\n",
            "| Epoch:[17][30/30]\tTrain_Loss: 0.6511\tAccuracy: 0.6292\tTime: 0.10 mins\n",
            "Epoch: 17/35\tVal_Loss: 0.6396\tAccuracy: 0.6900\tF1-score: 0.6892\t0.033mins\n",
            "=======================================================================\n",
            "Epoch 18/35\n",
            "lr: 0.000000\n",
            "--------------------------------------------------\n",
            "| Epoch:[18][30/30]\tTrain_Loss: 0.6582\tAccuracy: 0.6042\tTime: 0.08 mins\n",
            "Epoch: 18/35\tVal_Loss: 0.6418\tAccuracy: 0.6700\tF1-score: 0.6692\t0.024mins\n",
            "=======================================================================\n",
            "Epoch 19/35\n",
            "lr: 0.000000\n",
            "--------------------------------------------------\n",
            "| Epoch:[19][30/30]\tTrain_Loss: 0.6628\tAccuracy: 0.6021\tTime: 0.09 mins\n",
            "Epoch: 19/35\tVal_Loss: 0.6413\tAccuracy: 0.6800\tF1-score: 0.6779\t0.034mins\n",
            "=======================================================================\n",
            "Epoch 20/35\n",
            "lr: 0.000000\n",
            "--------------------------------------------------\n",
            "| Epoch:[20][30/30]\tTrain_Loss: 0.6617\tAccuracy: 0.5979\tTime: 0.08 mins\n",
            "Epoch: 20/35\tVal_Loss: 0.6406\tAccuracy: 0.6950\tF1-score: 0.6937\t0.024mins\n",
            "=======================================================================\n",
            "Epoch 21/35\n",
            "lr: 0.000000\n",
            "--------------------------------------------------\n",
            "| Epoch:[21][30/30]\tTrain_Loss: 0.6596\tAccuracy: 0.6333\tTime: 0.10 mins\n",
            "Epoch: 21/35\tVal_Loss: 0.6406\tAccuracy: 0.6950\tF1-score: 0.6948\t0.033mins\n",
            "=======================================================================\n",
            "Epoch 22/35\n",
            "lr: 0.000000\n",
            "--------------------------------------------------\n",
            "| Epoch:[22][30/30]\tTrain_Loss: 0.6623\tAccuracy: 0.5979\tTime: 0.08 mins\n",
            "Epoch: 22/35\tVal_Loss: 0.6418\tAccuracy: 0.6800\tF1-score: 0.6784\t0.025mins\n",
            "=======================================================================\n",
            "Epoch 23/35\n",
            "lr: 0.000000\n",
            "--------------------------------------------------\n",
            "| Epoch:[23][30/30]\tTrain_Loss: 0.6601\tAccuracy: 0.6208\tTime: 0.09 mins\n",
            "Epoch: 23/35\tVal_Loss: 0.6409\tAccuracy: 0.6750\tF1-score: 0.6743\t0.033mins\n",
            "=======================================================================\n",
            "Epoch 24/35\n",
            "lr: 0.000000\n",
            "--------------------------------------------------\n",
            "| Epoch:[24][30/30]\tTrain_Loss: 0.6659\tAccuracy: 0.6042\tTime: 0.08 mins\n",
            "Epoch: 24/35\tVal_Loss: 0.6391\tAccuracy: 0.6950\tF1-score: 0.6941\t0.024mins\n",
            "=======================================================================\n",
            "Epoch 25/35\n",
            "lr: 0.000000\n",
            "--------------------------------------------------\n",
            "| Epoch:[25][30/30]\tTrain_Loss: 0.6587\tAccuracy: 0.6146\tTime: 0.09 mins\n",
            "Epoch: 25/35\tVal_Loss: 0.6420\tAccuracy: 0.6950\tF1-score: 0.6946\t0.034mins\n",
            "=======================================================================\n",
            "Epoch 26/35\n",
            "lr: 0.000000\n",
            "--------------------------------------------------\n",
            "| Epoch:[26][30/30]\tTrain_Loss: 0.6613\tAccuracy: 0.6188\tTime: 0.08 mins\n",
            "Epoch: 26/35\tVal_Loss: 0.6418\tAccuracy: 0.6700\tF1-score: 0.6673\t0.025mins\n",
            "=======================================================================\n",
            "Epoch 27/35\n",
            "lr: 0.000000\n",
            "--------------------------------------------------\n",
            "| Epoch:[27][30/30]\tTrain_Loss: 0.6641\tAccuracy: 0.6104\tTime: 0.10 mins\n",
            "Epoch: 27/35\tVal_Loss: 0.6416\tAccuracy: 0.6800\tF1-score: 0.6774\t0.032mins\n",
            "=======================================================================\n",
            "Epoch 28/35\n",
            "lr: 0.000000\n",
            "--------------------------------------------------\n",
            "| Epoch:[28][30/30]\tTrain_Loss: 0.6592\tAccuracy: 0.6312\tTime: 0.08 mins\n",
            "Epoch: 28/35\tVal_Loss: 0.6380\tAccuracy: 0.6950\tF1-score: 0.6949\t0.025mins\n",
            "=======================================================================\n",
            "Epoch 29/35\n",
            "lr: 0.000000\n",
            "--------------------------------------------------\n",
            "| Epoch:[29][30/30]\tTrain_Loss: 0.6649\tAccuracy: 0.6125\tTime: 0.10 mins\n",
            "Epoch: 29/35\tVal_Loss: 0.6397\tAccuracy: 0.6950\tF1-score: 0.6937\t0.032mins\n",
            "=======================================================================\n",
            "Epoch 30/35\n",
            "lr: 0.000000\n",
            "--------------------------------------------------\n",
            "| Epoch:[30][30/30]\tTrain_Loss: 0.6581\tAccuracy: 0.6104\tTime: 0.08 mins\n",
            "Epoch: 30/35\tVal_Loss: 0.6404\tAccuracy: 0.6900\tF1-score: 0.6897\t0.024mins\n",
            "=======================================================================\n",
            "Epoch 31/35\n",
            "lr: 0.000000\n",
            "--------------------------------------------------\n",
            "| Epoch:[31][30/30]\tTrain_Loss: 0.6666\tAccuracy: 0.5938\tTime: 0.10 mins\n",
            "Epoch: 31/35\tVal_Loss: 0.6432\tAccuracy: 0.6650\tF1-score: 0.6626\t0.032mins\n",
            "=======================================================================\n",
            "Epoch 32/35\n",
            "lr: 0.000000\n",
            "--------------------------------------------------\n",
            "| Epoch:[32][30/30]\tTrain_Loss: 0.6542\tAccuracy: 0.6333\tTime: 0.08 mins\n",
            "Epoch: 32/35\tVal_Loss: 0.6406\tAccuracy: 0.6900\tF1-score: 0.6895\t0.025mins\n",
            "=======================================================================\n",
            "Epoch 33/35\n",
            "lr: 0.000000\n",
            "--------------------------------------------------\n",
            "| Epoch:[33][30/30]\tTrain_Loss: 0.6603\tAccuracy: 0.6146\tTime: 0.10 mins\n",
            "Epoch: 33/35\tVal_Loss: 0.6397\tAccuracy: 0.6800\tF1-score: 0.6792\t0.033mins\n",
            "=======================================================================\n",
            "Epoch 34/35\n",
            "lr: 0.000000\n",
            "--------------------------------------------------\n",
            "| Epoch:[34][30/30]\tTrain_Loss: 0.6580\tAccuracy: 0.6208\tTime: 0.08 mins\n",
            "Epoch: 34/35\tVal_Loss: 0.6424\tAccuracy: 0.6750\tF1-score: 0.6732\t0.025mins\n",
            "=======================================================================\n",
            "Epoch 35/35\n",
            "lr: 0.000000\n",
            "--------------------------------------------------\n",
            "| Epoch:[35][30/30]\tTrain_Loss: 0.6605\tAccuracy: 0.5979\tTime: 0.10 mins\n",
            "Epoch: 35/35\tVal_Loss: 0.6414\tAccuracy: 0.6850\tF1-score: 0.6832\t0.033mins\n",
            "=======================================================================\n",
            "Training complete in 5m 14s\n",
            "Best validation F1 score: 0.699248 at epoch: 7\n"
          ]
        },
        {
          "output_type": "display_data",
          "data": {
            "text/plain": [
              "<Figure size 640x480 with 1 Axes>"
            ],
            "image/png": "[encoded data removed]"
          },
          "metadata": {}
        }
      ]
    }
  ]
}