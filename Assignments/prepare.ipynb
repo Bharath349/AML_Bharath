{
  "nbformat": 4,
  "nbformat_minor": 0,
  "metadata": {
    "colab": {
      "provenance": []
    },
    "kernelspec": {
      "name": "python3",
      "display_name": "Python 3"
    },
    "language_info": {
      "name": "python"
    }
  },
  "cells": [
    {
      "cell_type": "code",
      "source": [
        "import pandas as pd\n",
        "import csv\n",
        "from textblob import TextBlob\n",
        "from sklearn.feature_extraction.text import CountVectorizer, TfidfTransformer\n",
        "import sklearn\n",
        "from sklearn.model_selection import train_test_split \n",
        "from scipy import sparse"
      ],
      "metadata": {
        "id": "u1HO1YwkUwAi"
      },
      "execution_count": 7,
      "outputs": []
    },
    {
      "cell_type": "code",
      "execution_count": 8,
      "metadata": {
        "id": "TfRPhc3GQWSG"
      },
      "outputs": [],
      "source": [
        "messages = pd.read_csv('SMSSpamCollection', sep='\\t', quoting=csv.QUOTE_NONE,\n",
        "                           names=[\"label\", \"message\"])"
      ]
    },
    {
      "cell_type": "code",
      "source": [
        "def split_into_lemmas(message):\n",
        "    message = str.format(message,'utf-8').lower()\n",
        "    words = TextBlob(message).words \n",
        "    return [word.lemma for word in words]"
      ],
      "metadata": {
        "id": "m8uN7v5VVCt9"
      },
      "execution_count": 9,
      "outputs": []
    },
    {
      "cell_type": "code",
      "source": [
        "bow_transformer = CountVectorizer(analyzer=split_into_lemmas).fit(messages['message'])"
      ],
      "metadata": {
        "id": "5hs5kuLxY_OI"
      },
      "execution_count": null,
      "outputs": []
    },
    {
      "cell_type": "code",
      "source": [
        "messages_bow = bow_transformer.transform(messages['message'])\n",
        "tfidf_transformer = TfidfTransformer().fit(messages_bow)\n",
        "messages_tfidf = tfidf_transformer.transform(messages_bow)"
      ],
      "metadata": {
        "id": "61b45raCdISl"
      },
      "execution_count": 11,
      "outputs": []
    },
    {
      "cell_type": "code",
      "source": [
        "messages_train, messages_test, y_train, y_test = train_test_split(messages_tfidf, messages['label'], test_size= 0.2)"
      ],
      "metadata": {
        "id": "-LtBAiXffEmS"
      },
      "execution_count": 12,
      "outputs": []
    },
    {
      "cell_type": "code",
      "source": [
        "message_train, messages_valid, classify_train, classify_valid = train_test_split(messages_train, y_train, test_size=0.2)"
      ],
      "metadata": {
        "id": "jmMf5edKhhax"
      },
      "execution_count": 13,
      "outputs": []
    },
    {
      "cell_type": "code",
      "source": [
        "train_dataset = pd.DataFrame(message_train.todense())\n",
        "classify_df = classify_train.to_frame()\n",
        "classify_df = classify_df.reset_index(drop=True)\n",
        "train_data = pd.concat([train_dataset,classify_df],axis = 1)"
      ],
      "metadata": {
        "id": "x5Vf_ZtskBfz"
      },
      "execution_count": 14,
      "outputs": []
    },
    {
      "cell_type": "code",
      "source": [
        "test_dataset = pd.DataFrame(messages_test.todense())\n",
        "test_classify = y_test.to_frame()\n",
        "test_classify = test_classify.reset_index(drop=True)\n",
        "test_data = pd.concat([test_dataset,test_classify],axis = 1)"
      ],
      "metadata": {
        "id": "YIZwj1lrp9cz"
      },
      "execution_count": 15,
      "outputs": []
    },
    {
      "cell_type": "code",
      "source": [
        "valid_dataset = pd.DataFrame(messages_valid.todense())\n",
        "valid_classify = classify_valid.to_frame()\n",
        "valid_classify = valid_classify.reset_index(drop=True)\n",
        "valid_data = pd.concat([valid_dataset,valid_classify],axis = 1)"
      ],
      "metadata": {
        "id": "sbAoDvkup4f3"
      },
      "execution_count": 16,
      "outputs": []
    },
    {
      "cell_type": "code",
      "source": [
        "train_data.to_csv('train.csv')\n",
        "test_data.to_csv('test.csv')\n",
        "valid_data.to_csv('validation.csv')"
      ],
      "metadata": {
        "id": "FCtaWBNPq6tB"
      },
      "execution_count": 17,
      "outputs": []
    }
  ]
}